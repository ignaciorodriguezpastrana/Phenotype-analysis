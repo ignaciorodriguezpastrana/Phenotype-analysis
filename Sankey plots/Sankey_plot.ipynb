{
 "cells": [
  {
   "cell_type": "code",
   "execution_count": null,
   "metadata": {},
   "outputs": [],
   "source": [
    "# For additional information please refer to:\n",
    "    # https://plotly.com/python/sankey-diagram/"
   ]
  },
  {
   "cell_type": "markdown",
   "metadata": {},
   "source": [
    "## Import packages"
   ]
  },
  {
   "cell_type": "code",
   "execution_count": 1,
   "metadata": {},
   "outputs": [],
   "source": [
    "import pandas as pd\n",
    "import csv\n",
    "import seaborn as sns\n",
    "import numpy as np\n",
    "import glob\n",
    "import os\n",
    "import matplotlib.pyplot as plt\n",
    "from matplotlib import rcParams\n",
    "from io import StringIO\n",
    "import random\n",
    "import time\n",
    "import plotly.graph_objects as go\n",
    "import copy\n",
    "import sys\n",
    "from print_versions import print_versions"
   ]
  },
  {
   "cell_type": "code",
   "execution_count": 2,
   "metadata": {},
   "outputs": [
    {
     "name": "stdout",
     "output_type": "stream",
     "text": [
      "Python version\n",
      "3.10.11 (main, Dec 23 2024, 23:03:26) [Clang 16.0.0 (clang-1600.0.26.6)]\n",
      "\n",
      "Packages version\n",
      "pandas==2.2.3\n",
      "csv==1.0\n",
      "seaborn==0.13.2\n",
      "numpy==1.26.4\n",
      "matplotlib==3.10.0\n"
     ]
    }
   ],
   "source": [
    "print(\"Python version\")\n",
    "print(sys.version)\n",
    "print(\"\\nPackages version\")\n",
    "print_versions(globals())"
   ]
  },
  {
   "cell_type": "markdown",
   "metadata": {},
   "source": [
    "## Set up the environment"
   ]
  },
  {
   "cell_type": "code",
   "execution_count": null,
   "metadata": {},
   "outputs": [],
   "source": [
    "# Note - In order to make the Sankey diagrams the previous csv file needs to have a specific format:\n",
    "    # 1. The first columns represent the timepoints of the analysis (this will vary depending on the experimental design). Each cell has the label of the phenotype\n",
    "    # 2. The following column constains the genotype(s)\n",
    "    # 3. the last column has the number of samples that present a particular genotype and phenotype development\n",
    "# I recommend to manually create this CSV file first and then run the following code"
   ]
  },
  {
   "cell_type": "code",
   "execution_count": 3,
   "metadata": {},
   "outputs": [
    {
     "data": {
      "text/html": [
       "<div>\n",
       "<style scoped>\n",
       "    .dataframe tbody tr th:only-of-type {\n",
       "        vertical-align: middle;\n",
       "    }\n",
       "\n",
       "    .dataframe tbody tr th {\n",
       "        vertical-align: top;\n",
       "    }\n",
       "\n",
       "    .dataframe thead th {\n",
       "        text-align: right;\n",
       "    }\n",
       "</style>\n",
       "<table border=\"1\" class=\"dataframe\">\n",
       "  <thead>\n",
       "    <tr style=\"text-align: right;\">\n",
       "      <th></th>\n",
       "      <th>2dpf</th>\n",
       "      <th>3dpf</th>\n",
       "      <th>4dpf</th>\n",
       "      <th>5dpf</th>\n",
       "      <th>genotype (2a, 2b, crlb)</th>\n",
       "      <th>size</th>\n",
       "    </tr>\n",
       "  </thead>\n",
       "  <tbody>\n",
       "    <tr>\n",
       "      <th>0</th>\n",
       "      <td>2dpf_D</td>\n",
       "      <td>3dpf_D&amp;C1</td>\n",
       "      <td>4dpf_C2</td>\n",
       "      <td>5dpf_C2</td>\n",
       "      <td>hom,het,hom</td>\n",
       "      <td>1</td>\n",
       "    </tr>\n",
       "    <tr>\n",
       "      <th>1</th>\n",
       "      <td>2dpf_D</td>\n",
       "      <td>3dpf_D&amp;C1</td>\n",
       "      <td>4dpf_C2</td>\n",
       "      <td>5dpf_C3</td>\n",
       "      <td>hom,wt,hom</td>\n",
       "      <td>1</td>\n",
       "    </tr>\n",
       "    <tr>\n",
       "      <th>2</th>\n",
       "      <td>2dpf_D</td>\n",
       "      <td>3dpf_D&amp;C1</td>\n",
       "      <td>4dpf_C3</td>\n",
       "      <td>5dpf_C3</td>\n",
       "      <td>hom,hom,het</td>\n",
       "      <td>11</td>\n",
       "    </tr>\n",
       "    <tr>\n",
       "      <th>3</th>\n",
       "      <td>2dpf_D</td>\n",
       "      <td>3dpf_D&amp;C1</td>\n",
       "      <td>4dpf_C2</td>\n",
       "      <td>5dpf_C3</td>\n",
       "      <td>hom,hom,het</td>\n",
       "      <td>1</td>\n",
       "    </tr>\n",
       "    <tr>\n",
       "      <th>4</th>\n",
       "      <td>2dpf_D</td>\n",
       "      <td>3dpf_D&amp;C1</td>\n",
       "      <td>4dpf_C3</td>\n",
       "      <td>5dpf_C3</td>\n",
       "      <td>hom,hom,hom</td>\n",
       "      <td>5</td>\n",
       "    </tr>\n",
       "  </tbody>\n",
       "</table>\n",
       "</div>"
      ],
      "text/plain": [
       "     2dpf       3dpf     4dpf     5dpf genotype (2a, 2b, crlb)  size\n",
       "0  2dpf_D  3dpf_D&C1  4dpf_C2  5dpf_C2             hom,het,hom     1\n",
       "1  2dpf_D  3dpf_D&C1  4dpf_C2  5dpf_C3              hom,wt,hom     1\n",
       "2  2dpf_D  3dpf_D&C1  4dpf_C3  5dpf_C3             hom,hom,het    11\n",
       "3  2dpf_D  3dpf_D&C1  4dpf_C2  5dpf_C3             hom,hom,het     1\n",
       "4  2dpf_D  3dpf_D&C1  4dpf_C3  5dpf_C3             hom,hom,hom     5"
      ]
     },
     "execution_count": 3,
     "metadata": {},
     "output_type": "execute_result"
    }
   ],
   "source": [
    "input_dir = '/Users/xxxx/Library/CloudStorage/xxxx/' # Working directory where the dataset is saved\n",
    "file_name = input_dir + 'triples_genotype.csv' # Name of the file containing the dataset\n",
    "df_sankey = pd.read_csv(file_name, sep=';') # Read the .csv file\n",
    "df_sankey.head() # Print the first lines of the table"
   ]
  },
  {
   "cell_type": "markdown",
   "metadata": {},
   "source": [
    "## Define basic plotting parameters"
   ]
  },
  {
   "cell_type": "code",
   "execution_count": 4,
   "metadata": {},
   "outputs": [],
   "source": [
    "labels = []\n",
    "for col in df_sankey.columns[:-2]: # Read the dataframe except the columns with the genotype and the sample counts\n",
    "    label = df_sankey[col].unique() # For each column get the unique labels\n",
    "    for i in label:\n",
    "        labels.append(i) # Append the labels into a new list\n",
    "labels.sort()\n",
    "\n",
    "dict_label = {}\n",
    "for i in enumerate(labels):\n",
    "    dict_label[i[0]] = i[1] # Transform the list into a dictionary\n",
    "\n",
    "col_list = []\n",
    "for i in labels:\n",
    "    color = \"darkgrey\" # This parameter will determine the color of each label. By default it is set to be grey\n",
    "    col_list.append(color)\n",
    "    # Note: To use different colours for each label.\n",
    "        # 1) Get the total number of labels, len(labels)\n",
    "        # 2) Provide a colour list with the same length as in (1), col_list = ['red', 'blue', ...]"
   ]
  },
  {
   "cell_type": "markdown",
   "metadata": {},
   "source": [
    "## Pre-process the working dataframe"
   ]
  },
  {
   "cell_type": "code",
   "execution_count": 5,
   "metadata": {},
   "outputs": [
    {
     "data": {
      "text/html": [
       "<div>\n",
       "<style scoped>\n",
       "    .dataframe tbody tr th:only-of-type {\n",
       "        vertical-align: middle;\n",
       "    }\n",
       "\n",
       "    .dataframe tbody tr th {\n",
       "        vertical-align: top;\n",
       "    }\n",
       "\n",
       "    .dataframe thead th {\n",
       "        text-align: right;\n",
       "    }\n",
       "</style>\n",
       "<table border=\"1\" class=\"dataframe\">\n",
       "  <thead>\n",
       "    <tr style=\"text-align: right;\">\n",
       "      <th></th>\n",
       "      <th>2dpf</th>\n",
       "      <th>3dpf</th>\n",
       "      <th>4dpf</th>\n",
       "      <th>5dpf</th>\n",
       "      <th>genotype (2a, 2b, crlb)</th>\n",
       "      <th>size</th>\n",
       "    </tr>\n",
       "  </thead>\n",
       "  <tbody>\n",
       "    <tr>\n",
       "      <th>0</th>\n",
       "      <td>0</td>\n",
       "      <td>3</td>\n",
       "      <td>6</td>\n",
       "      <td>10</td>\n",
       "      <td>hom,het,hom</td>\n",
       "      <td>1</td>\n",
       "    </tr>\n",
       "    <tr>\n",
       "      <th>1</th>\n",
       "      <td>0</td>\n",
       "      <td>3</td>\n",
       "      <td>6</td>\n",
       "      <td>11</td>\n",
       "      <td>hom,wt,hom</td>\n",
       "      <td>1</td>\n",
       "    </tr>\n",
       "    <tr>\n",
       "      <th>2</th>\n",
       "      <td>0</td>\n",
       "      <td>3</td>\n",
       "      <td>7</td>\n",
       "      <td>11</td>\n",
       "      <td>hom,hom,het</td>\n",
       "      <td>11</td>\n",
       "    </tr>\n",
       "    <tr>\n",
       "      <th>3</th>\n",
       "      <td>0</td>\n",
       "      <td>3</td>\n",
       "      <td>6</td>\n",
       "      <td>11</td>\n",
       "      <td>hom,hom,het</td>\n",
       "      <td>1</td>\n",
       "    </tr>\n",
       "    <tr>\n",
       "      <th>4</th>\n",
       "      <td>0</td>\n",
       "      <td>3</td>\n",
       "      <td>7</td>\n",
       "      <td>11</td>\n",
       "      <td>hom,hom,hom</td>\n",
       "      <td>5</td>\n",
       "    </tr>\n",
       "  </tbody>\n",
       "</table>\n",
       "</div>"
      ],
      "text/plain": [
       "   2dpf  3dpf  4dpf  5dpf genotype (2a, 2b, crlb)  size\n",
       "0     0     3     6    10             hom,het,hom     1\n",
       "1     0     3     6    11              hom,wt,hom     1\n",
       "2     0     3     7    11             hom,hom,het    11\n",
       "3     0     3     6    11             hom,hom,het     1\n",
       "4     0     3     7    11             hom,hom,hom     5"
      ]
     },
     "execution_count": 5,
     "metadata": {},
     "output_type": "execute_result"
    }
   ],
   "source": [
    "for col in df_sankey.columns[:-2]:  # Read the dataframe except the columns with the genotype and the embryo counts\n",
    "    df_sankey[col] = df_sankey[col].map({v: k for k, v in dict_label.items()}) # Change each label for the index of the dictionary\n",
    "\n",
    "df_sankey.head() # Ensure that the dataframe only contains numbers and the genotype as strings"
   ]
  },
  {
   "cell_type": "code",
   "execution_count": 6,
   "metadata": {},
   "outputs": [],
   "source": [
    "genolist = df_sankey['genotype (2a, 2b, crlb)'].unique().tolist() # Get the labels from the genotype column\n",
    "dpf_number = df_sankey.shape[1]-2 # Get the number of columns containing phenotype information (ignore the genotype and counts columns)"
   ]
  },
  {
   "cell_type": "code",
   "execution_count": 7,
   "metadata": {},
   "outputs": [],
   "source": [
    "df_storage = []\n",
    "for col in df_sankey.columns: # For each column of the dataframe\n",
    "    for i in range(0,df_sankey.shape[0]):\n",
    "        value = df_sankey._get_value(i,col) # Get the values of the column\n",
    "        df_storage.append(value) # Store all the values of the dataframe as a unique list"
   ]
  },
  {
   "cell_type": "code",
   "execution_count": 8,
   "metadata": {},
   "outputs": [],
   "source": [
    "chunks = [df_storage[i:i+df_sankey.shape[0]] for i in range(0, len(df_storage), df_sankey.shape[0])] # Divide the previous list based on the length (rows) of the original dataframe"
   ]
  },
  {
   "cell_type": "code",
   "execution_count": 9,
   "metadata": {},
   "outputs": [
    {
     "data": {
      "text/plain": [
       "[            0           1            2            3            4           5   \\\n",
       " 0            0           0            0            0            0           0   \n",
       " 1            3           3            3            3            3           3   \n",
       " 2            1           1           11            1            5           2   \n",
       " 3  hom,het,hom  hom,wt,hom  hom,hom,het  hom,hom,het  hom,hom,hom  hom,hom,wt   \n",
       " \n",
       "             6            7            8            9   ...           37  \\\n",
       " 0            1            1            1            1  ...            1   \n",
       " 1            2            4            4            4  ...            4   \n",
       " 2            1            1            3            6  ...            8   \n",
       " 3  hom,het,hom  het,het,hom  het,hom,hom  hom,het,het  ...  het,het,het   \n",
       " \n",
       "            38           39          40          41          42         43  \\\n",
       " 0           1            1           1           1           1          1   \n",
       " 1           4            4           4           4           4          4   \n",
       " 2           4            5           1           4           3          1   \n",
       " 3  het,het,wt  het,hom,het  het,hom,wt  het,wt,het  wt,het,het  wt,het,wt   \n",
       " \n",
       "            44         45        46  \n",
       " 0           1          1         1  \n",
       " 1           4          4         4  \n",
       " 2           1          4         1  \n",
       " 3  wt,hom,het  wt,wt,het  wt,wt,wt  \n",
       " \n",
       " [4 rows x 47 columns]]"
      ]
     },
     "execution_count": 9,
     "metadata": {},
     "output_type": "execute_result"
    }
   ],
   "source": [
    "df_storage2 = []\n",
    "for i in range(0,len(chunks)):\n",
    "    if i < len(chunks)-3: # 3 is required to not overwrite the columns with the genotype and the total number count.\n",
    "                          # In this example there are two columns with additional information. If more columns the number above will be n+1.\n",
    "        try:\n",
    "            mydf = pd.DataFrame(list(zip(chunks[i], chunks[i+1],chunks[len(chunks)-1],chunks[len(chunks)-2])))\n",
    "            mydf = mydf.T\n",
    "            df_storage2.append(mydf)\n",
    "        except Exception as e:\n",
    "            pass\n",
    "    else:\n",
    "        pass\n",
    "df_storage2[:1]"
   ]
  },
  {
   "cell_type": "code",
   "execution_count": 10,
   "metadata": {},
   "outputs": [
    {
     "data": {
      "text/plain": [
       "{'hom,het,hom': (31, 119, 180),\n",
       " 'hom,wt,hom': (174, 199, 232),\n",
       " 'hom,hom,het': (255, 127, 14),\n",
       " 'hom,hom,hom': (255, 187, 120),\n",
       " 'hom,hom,wt': (44, 160, 44)}"
      ]
     },
     "execution_count": 10,
     "metadata": {},
     "output_type": "execute_result"
    }
   ],
   "source": [
    "df_storage3 = pd.concat(df_storage2, axis = 1) # Concatenate the previous dataframes into a single table\n",
    "colors = plt.get_cmap('tab20').colors * 4 # Takes the colours from a Matplotlib palette\n",
    "        # More colours can be found: https://matplotlib.org/stable/users/explain/colors/colormaps.html\n",
    "colors_rgb = {name: (int(r*255), int(g*255), int(b*255)) for name, (r, g, b) in zip(genolist, colors)} # Transform the colours from a Matplotlib into RGB\n",
    "out = {k: colors_rgb[k] for k in list(colors_rgb)[:5]} # Ensure the dictionary contains a colour for each genotype\n",
    "out"
   ]
  },
  {
   "cell_type": "code",
   "execution_count": null,
   "metadata": {},
   "outputs": [],
   "source": [
    "# Colours can also be defined manually\n",
    "colors_rgb = {'rest': (159, 159, 163), #darkgrey\n",
    "              'x,het,hom': (144, 187, 228),\n",
    "              'x,hom,hom': (91, 108, 179),\n",
    "              'x,wt,hom': (120, 72, 156),\n",
    "              'hom,het,x': (103, 14, 14),\n",
    "              'hom,het,hom': (216, 70, 39),\n",
    "              'hom,hom,x': (0, 167, 157),\n",
    "              'hom,wt,x': (255, 152, 150),\n",
    "              'hom,wt,hom': (148, 103, 189),\n",
    "              }"
   ]
  },
  {
   "cell_type": "code",
   "execution_count": 11,
   "metadata": {},
   "outputs": [],
   "source": [
    "color_row = [colors_rgb[genotype] for genotype in df_storage3.iloc[3]] # Creates a dataframe with the colours for each genotype\n",
    "df_storage3.loc[4] = color_row # Store the raw values into the fourth row of the dataframe (this number may need to be changed depending on the shape of the dataframe)\n",
    "def rgb_to_rgba_string(rgb_tuple):\n",
    "    return f\"rgba({rgb_tuple[0]}, {rgb_tuple[1]}, {rgb_tuple[2]}, 1.0)\" # Format the colours for the Sankey plot.\n",
    "    # The value of 0.8 refers to the opacity of the plot and can be changed for any value.\n",
    "df_storage3.loc[5] = df_storage3.loc[4].apply(rgb_to_rgba_string) # Store the colours in a rgba format"
   ]
  },
  {
   "cell_type": "code",
   "execution_count": 12,
   "metadata": {},
   "outputs": [
    {
     "data": {
      "text/html": [
       "<div>\n",
       "<style scoped>\n",
       "    .dataframe tbody tr th:only-of-type {\n",
       "        vertical-align: middle;\n",
       "    }\n",
       "\n",
       "    .dataframe tbody tr th {\n",
       "        vertical-align: top;\n",
       "    }\n",
       "\n",
       "    .dataframe thead th {\n",
       "        text-align: right;\n",
       "    }\n",
       "</style>\n",
       "<table border=\"1\" class=\"dataframe\">\n",
       "  <thead>\n",
       "    <tr style=\"text-align: right;\">\n",
       "      <th></th>\n",
       "      <th>0</th>\n",
       "      <th>1</th>\n",
       "      <th>2</th>\n",
       "      <th>3</th>\n",
       "      <th>4</th>\n",
       "      <th>5</th>\n",
       "      <th>6</th>\n",
       "      <th>7</th>\n",
       "      <th>8</th>\n",
       "      <th>9</th>\n",
       "      <th>...</th>\n",
       "      <th>37</th>\n",
       "      <th>38</th>\n",
       "      <th>39</th>\n",
       "      <th>40</th>\n",
       "      <th>41</th>\n",
       "      <th>42</th>\n",
       "      <th>43</th>\n",
       "      <th>44</th>\n",
       "      <th>45</th>\n",
       "      <th>46</th>\n",
       "    </tr>\n",
       "  </thead>\n",
       "  <tbody>\n",
       "    <tr>\n",
       "      <th>0</th>\n",
       "      <td>0</td>\n",
       "      <td>0</td>\n",
       "      <td>0</td>\n",
       "      <td>0</td>\n",
       "      <td>0</td>\n",
       "      <td>0</td>\n",
       "      <td>1</td>\n",
       "      <td>1</td>\n",
       "      <td>1</td>\n",
       "      <td>1</td>\n",
       "      <td>...</td>\n",
       "      <td>8</td>\n",
       "      <td>8</td>\n",
       "      <td>8</td>\n",
       "      <td>8</td>\n",
       "      <td>8</td>\n",
       "      <td>8</td>\n",
       "      <td>8</td>\n",
       "      <td>8</td>\n",
       "      <td>8</td>\n",
       "      <td>8</td>\n",
       "    </tr>\n",
       "    <tr>\n",
       "      <th>1</th>\n",
       "      <td>3</td>\n",
       "      <td>3</td>\n",
       "      <td>3</td>\n",
       "      <td>3</td>\n",
       "      <td>3</td>\n",
       "      <td>3</td>\n",
       "      <td>2</td>\n",
       "      <td>4</td>\n",
       "      <td>4</td>\n",
       "      <td>4</td>\n",
       "      <td>...</td>\n",
       "      <td>12</td>\n",
       "      <td>12</td>\n",
       "      <td>12</td>\n",
       "      <td>12</td>\n",
       "      <td>12</td>\n",
       "      <td>12</td>\n",
       "      <td>12</td>\n",
       "      <td>12</td>\n",
       "      <td>12</td>\n",
       "      <td>12</td>\n",
       "    </tr>\n",
       "    <tr>\n",
       "      <th>2</th>\n",
       "      <td>1</td>\n",
       "      <td>1</td>\n",
       "      <td>11</td>\n",
       "      <td>1</td>\n",
       "      <td>5</td>\n",
       "      <td>2</td>\n",
       "      <td>1</td>\n",
       "      <td>1</td>\n",
       "      <td>3</td>\n",
       "      <td>6</td>\n",
       "      <td>...</td>\n",
       "      <td>8</td>\n",
       "      <td>4</td>\n",
       "      <td>5</td>\n",
       "      <td>1</td>\n",
       "      <td>4</td>\n",
       "      <td>3</td>\n",
       "      <td>1</td>\n",
       "      <td>1</td>\n",
       "      <td>4</td>\n",
       "      <td>1</td>\n",
       "    </tr>\n",
       "    <tr>\n",
       "      <th>3</th>\n",
       "      <td>hom,het,hom</td>\n",
       "      <td>hom,wt,hom</td>\n",
       "      <td>hom,hom,het</td>\n",
       "      <td>hom,hom,het</td>\n",
       "      <td>hom,hom,hom</td>\n",
       "      <td>hom,hom,wt</td>\n",
       "      <td>hom,het,hom</td>\n",
       "      <td>het,het,hom</td>\n",
       "      <td>het,hom,hom</td>\n",
       "      <td>hom,het,het</td>\n",
       "      <td>...</td>\n",
       "      <td>het,het,het</td>\n",
       "      <td>het,het,wt</td>\n",
       "      <td>het,hom,het</td>\n",
       "      <td>het,hom,wt</td>\n",
       "      <td>het,wt,het</td>\n",
       "      <td>wt,het,het</td>\n",
       "      <td>wt,het,wt</td>\n",
       "      <td>wt,hom,het</td>\n",
       "      <td>wt,wt,het</td>\n",
       "      <td>wt,wt,wt</td>\n",
       "    </tr>\n",
       "    <tr>\n",
       "      <th>4</th>\n",
       "      <td>(31, 119, 180)</td>\n",
       "      <td>(174, 199, 232)</td>\n",
       "      <td>(255, 127, 14)</td>\n",
       "      <td>(255, 127, 14)</td>\n",
       "      <td>(255, 187, 120)</td>\n",
       "      <td>(44, 160, 44)</td>\n",
       "      <td>(31, 119, 180)</td>\n",
       "      <td>(152, 223, 138)</td>\n",
       "      <td>(214, 39, 40)</td>\n",
       "      <td>(255, 152, 150)</td>\n",
       "      <td>...</td>\n",
       "      <td>(188, 189, 34)</td>\n",
       "      <td>(199, 199, 199)</td>\n",
       "      <td>(219, 219, 141)</td>\n",
       "      <td>(23, 190, 207)</td>\n",
       "      <td>(158, 218, 229)</td>\n",
       "      <td>(31, 119, 180)</td>\n",
       "      <td>(174, 199, 232)</td>\n",
       "      <td>(255, 127, 14)</td>\n",
       "      <td>(255, 187, 120)</td>\n",
       "      <td>(44, 160, 44)</td>\n",
       "    </tr>\n",
       "  </tbody>\n",
       "</table>\n",
       "<p>5 rows × 141 columns</p>\n",
       "</div>"
      ],
      "text/plain": [
       "               0                1               2               3   \\\n",
       "0               0                0               0               0   \n",
       "1               3                3               3               3   \n",
       "2               1                1              11               1   \n",
       "3     hom,het,hom       hom,wt,hom     hom,hom,het     hom,hom,het   \n",
       "4  (31, 119, 180)  (174, 199, 232)  (255, 127, 14)  (255, 127, 14)   \n",
       "\n",
       "                4              5               6                7   \\\n",
       "0                0              0               1                1   \n",
       "1                3              3               2                4   \n",
       "2                5              2               1                1   \n",
       "3      hom,hom,hom     hom,hom,wt     hom,het,hom      het,het,hom   \n",
       "4  (255, 187, 120)  (44, 160, 44)  (31, 119, 180)  (152, 223, 138)   \n",
       "\n",
       "              8                9   ...              37               38  \\\n",
       "0              1                1  ...               8                8   \n",
       "1              4                4  ...              12               12   \n",
       "2              3                6  ...               8                4   \n",
       "3    het,hom,hom      hom,het,het  ...     het,het,het       het,het,wt   \n",
       "4  (214, 39, 40)  (255, 152, 150)  ...  (188, 189, 34)  (199, 199, 199)   \n",
       "\n",
       "                39              40               41              42  \\\n",
       "0                8               8                8               8   \n",
       "1               12              12               12              12   \n",
       "2                5               1                4               3   \n",
       "3      het,hom,het      het,hom,wt       het,wt,het      wt,het,het   \n",
       "4  (219, 219, 141)  (23, 190, 207)  (158, 218, 229)  (31, 119, 180)   \n",
       "\n",
       "                43              44               45             46  \n",
       "0                8               8                8              8  \n",
       "1               12              12               12             12  \n",
       "2                1               1                4              1  \n",
       "3        wt,het,wt      wt,hom,het        wt,wt,het       wt,wt,wt  \n",
       "4  (174, 199, 232)  (255, 127, 14)  (255, 187, 120)  (44, 160, 44)  \n",
       "\n",
       "[5 rows x 141 columns]"
      ]
     },
     "execution_count": 12,
     "metadata": {},
     "output_type": "execute_result"
    }
   ],
   "source": [
    "sankey_df = df_storage3 # Create a copy of the working dataframe ensuring subsequent changes do not change raw results\n",
    "sankey_df.head()"
   ]
  },
  {
   "cell_type": "code",
   "execution_count": 13,
   "metadata": {},
   "outputs": [],
   "source": [
    "# This cell checks when there is missing data (e.g. empty cells in the original CSV file) and converts the links between the nodes to 0\n",
    "index_remove = []\n",
    "for i in dict_label:\n",
    "    if 'empty' in dict_label[i]: # Change for the label you want to remove (e.g. 'empty', 'classI', etc.)\n",
    "        indexDict = list(dict_label.keys()).index(i) # Recognises the index of 'empty' in the original dictionary\n",
    "        index_remove.append(indexDict) # Stores the index in a variable (done in case multiple classes need to be modified)\n",
    "    else:\n",
    "        pass\n",
    "    \n",
    "for idremove in index_remove:\n",
    "    mask_index = sankey_df.loc[0,:]==idremove # Creates a mask in the dataframe to specified the columns that need to be modified\n",
    "    mask_index2 = sankey_df.loc[1,:]==idremove\n",
    "    sankey_df.loc[2,mask_index] = 0 # Modifies the value of the third row to a 0. This ensures that no links will be plot in the Sankey diagram between the two nodes specified in rows 1 and 2\n",
    "    sankey_df.loc[2,mask_index2] = 0"
   ]
  },
  {
   "cell_type": "code",
   "execution_count": 14,
   "metadata": {},
   "outputs": [
    {
     "name": "stdout",
     "output_type": "stream",
     "text": [
      "The highest column number in the dataframe is 46\n"
     ]
    }
   ],
   "source": [
    "max_col = max((i for i in sankey_df.columns.unique() if isinstance(i, int))) # Checks the maximum column index in the dataframe\n",
    "print(f\"The highest column number in the dataframe is {max_col}\")"
   ]
  },
  {
   "cell_type": "code",
   "execution_count": 15,
   "metadata": {},
   "outputs": [
    {
     "data": {
      "text/plain": [
       "{'0': 47, '1': 48, '2': 100, '3': 'random', '4': (0, 0, 0)}"
      ]
     },
     "execution_count": 15,
     "metadata": {},
     "output_type": "execute_result"
    }
   ],
   "source": [
    "# Creates an additional column to add into the dataframe to expand the white canvas in the final figure to move the nodes\n",
    "# If bigger space is needed change 100 to a bigger number\n",
    "new_row_dict = {}\n",
    "ll = [max_col+1, max_col+2, 100,'random', (0, 0, 0)]\n",
    "    # Creates the artificial column including two need nodes, a value of 100 for the link, a 'random' genotype and the link will be plot in white.\n",
    "for key in range(0,sankey_df.shape[0]-1):\n",
    "    new_row_dict[str(key)] = ll[key] # Add the new column to the previous dataframe\n",
    "new_row_dict"
   ]
  },
  {
   "cell_type": "code",
   "execution_count": 16,
   "metadata": {},
   "outputs": [
    {
     "name": "stdout",
     "output_type": "stream",
     "text": [
      "{'0': 47, '1': 48, '2': 100, '3': 'random', '4': (0, 0, 0), '5': 'rgba(0, 0, 0, 0.0)'}\n"
     ]
    }
   ],
   "source": [
    "def tuple_to_rgba_string(rgb_tuple, opacity):\n",
    "    return f\"rgba({rgb_tuple[0]}, {rgb_tuple[1]}, {rgb_tuple[2]}, {opacity})\" # Transform the RGB colours into strings\n",
    "rgb_tuple = new_row_dict['4']\n",
    "opacity = 0.0 # Define the opacity of the RGB colours\n",
    "new_row_dict['5'] = tuple_to_rgba_string(rgb_tuple, opacity)\n",
    "print(new_row_dict)"
   ]
  },
  {
   "cell_type": "code",
   "execution_count": null,
   "metadata": {},
   "outputs": [],
   "source": [
    "# Important note: The following cells cannot be run multiple times. Changes need to be run once and then re-load the original sankey_df file (sankey_df = df_storage3)"
   ]
  },
  {
   "cell_type": "code",
   "execution_count": 17,
   "metadata": {},
   "outputs": [
    {
     "data": {
      "text/html": [
       "<div>\n",
       "<style scoped>\n",
       "    .dataframe tbody tr th:only-of-type {\n",
       "        vertical-align: middle;\n",
       "    }\n",
       "\n",
       "    .dataframe tbody tr th {\n",
       "        vertical-align: top;\n",
       "    }\n",
       "\n",
       "    .dataframe thead th {\n",
       "        text-align: right;\n",
       "    }\n",
       "</style>\n",
       "<table border=\"1\" class=\"dataframe\">\n",
       "  <thead>\n",
       "    <tr style=\"text-align: right;\">\n",
       "      <th></th>\n",
       "      <th>0</th>\n",
       "      <th>1</th>\n",
       "      <th>2</th>\n",
       "      <th>3</th>\n",
       "      <th>4</th>\n",
       "      <th>5</th>\n",
       "      <th>6</th>\n",
       "      <th>7</th>\n",
       "      <th>8</th>\n",
       "      <th>9</th>\n",
       "      <th>...</th>\n",
       "      <th>38</th>\n",
       "      <th>39</th>\n",
       "      <th>40</th>\n",
       "      <th>41</th>\n",
       "      <th>42</th>\n",
       "      <th>43</th>\n",
       "      <th>44</th>\n",
       "      <th>45</th>\n",
       "      <th>46</th>\n",
       "      <th>New_Column</th>\n",
       "    </tr>\n",
       "  </thead>\n",
       "  <tbody>\n",
       "    <tr>\n",
       "      <th>0</th>\n",
       "      <td>0</td>\n",
       "      <td>0</td>\n",
       "      <td>0</td>\n",
       "      <td>0</td>\n",
       "      <td>0</td>\n",
       "      <td>0</td>\n",
       "      <td>1</td>\n",
       "      <td>1</td>\n",
       "      <td>1</td>\n",
       "      <td>1</td>\n",
       "      <td>...</td>\n",
       "      <td>8</td>\n",
       "      <td>8</td>\n",
       "      <td>8</td>\n",
       "      <td>8</td>\n",
       "      <td>8</td>\n",
       "      <td>8</td>\n",
       "      <td>8</td>\n",
       "      <td>8</td>\n",
       "      <td>8</td>\n",
       "      <td>47</td>\n",
       "    </tr>\n",
       "    <tr>\n",
       "      <th>1</th>\n",
       "      <td>3</td>\n",
       "      <td>3</td>\n",
       "      <td>3</td>\n",
       "      <td>3</td>\n",
       "      <td>3</td>\n",
       "      <td>3</td>\n",
       "      <td>2</td>\n",
       "      <td>4</td>\n",
       "      <td>4</td>\n",
       "      <td>4</td>\n",
       "      <td>...</td>\n",
       "      <td>12</td>\n",
       "      <td>12</td>\n",
       "      <td>12</td>\n",
       "      <td>12</td>\n",
       "      <td>12</td>\n",
       "      <td>12</td>\n",
       "      <td>12</td>\n",
       "      <td>12</td>\n",
       "      <td>12</td>\n",
       "      <td>48</td>\n",
       "    </tr>\n",
       "    <tr>\n",
       "      <th>2</th>\n",
       "      <td>1</td>\n",
       "      <td>1</td>\n",
       "      <td>11</td>\n",
       "      <td>1</td>\n",
       "      <td>5</td>\n",
       "      <td>2</td>\n",
       "      <td>1</td>\n",
       "      <td>1</td>\n",
       "      <td>3</td>\n",
       "      <td>6</td>\n",
       "      <td>...</td>\n",
       "      <td>4</td>\n",
       "      <td>5</td>\n",
       "      <td>1</td>\n",
       "      <td>4</td>\n",
       "      <td>3</td>\n",
       "      <td>1</td>\n",
       "      <td>1</td>\n",
       "      <td>4</td>\n",
       "      <td>1</td>\n",
       "      <td>100</td>\n",
       "    </tr>\n",
       "    <tr>\n",
       "      <th>3</th>\n",
       "      <td>hom,het,hom</td>\n",
       "      <td>hom,wt,hom</td>\n",
       "      <td>hom,hom,het</td>\n",
       "      <td>hom,hom,het</td>\n",
       "      <td>hom,hom,hom</td>\n",
       "      <td>hom,hom,wt</td>\n",
       "      <td>hom,het,hom</td>\n",
       "      <td>het,het,hom</td>\n",
       "      <td>het,hom,hom</td>\n",
       "      <td>hom,het,het</td>\n",
       "      <td>...</td>\n",
       "      <td>het,het,wt</td>\n",
       "      <td>het,hom,het</td>\n",
       "      <td>het,hom,wt</td>\n",
       "      <td>het,wt,het</td>\n",
       "      <td>wt,het,het</td>\n",
       "      <td>wt,het,wt</td>\n",
       "      <td>wt,hom,het</td>\n",
       "      <td>wt,wt,het</td>\n",
       "      <td>wt,wt,wt</td>\n",
       "      <td>random</td>\n",
       "    </tr>\n",
       "    <tr>\n",
       "      <th>4</th>\n",
       "      <td>(31, 119, 180)</td>\n",
       "      <td>(174, 199, 232)</td>\n",
       "      <td>(255, 127, 14)</td>\n",
       "      <td>(255, 127, 14)</td>\n",
       "      <td>(255, 187, 120)</td>\n",
       "      <td>(44, 160, 44)</td>\n",
       "      <td>(31, 119, 180)</td>\n",
       "      <td>(152, 223, 138)</td>\n",
       "      <td>(214, 39, 40)</td>\n",
       "      <td>(255, 152, 150)</td>\n",
       "      <td>...</td>\n",
       "      <td>(199, 199, 199)</td>\n",
       "      <td>(219, 219, 141)</td>\n",
       "      <td>(23, 190, 207)</td>\n",
       "      <td>(158, 218, 229)</td>\n",
       "      <td>(31, 119, 180)</td>\n",
       "      <td>(174, 199, 232)</td>\n",
       "      <td>(255, 127, 14)</td>\n",
       "      <td>(255, 187, 120)</td>\n",
       "      <td>(44, 160, 44)</td>\n",
       "      <td>(0, 0, 0)</td>\n",
       "    </tr>\n",
       "    <tr>\n",
       "      <th>5</th>\n",
       "      <td>rgba(31, 119, 180, 1.0)</td>\n",
       "      <td>rgba(174, 199, 232, 1.0)</td>\n",
       "      <td>rgba(255, 127, 14, 1.0)</td>\n",
       "      <td>rgba(255, 127, 14, 1.0)</td>\n",
       "      <td>rgba(255, 187, 120, 1.0)</td>\n",
       "      <td>rgba(44, 160, 44, 1.0)</td>\n",
       "      <td>rgba(31, 119, 180, 1.0)</td>\n",
       "      <td>rgba(152, 223, 138, 1.0)</td>\n",
       "      <td>rgba(214, 39, 40, 1.0)</td>\n",
       "      <td>rgba(255, 152, 150, 1.0)</td>\n",
       "      <td>...</td>\n",
       "      <td>rgba(199, 199, 199, 1.0)</td>\n",
       "      <td>rgba(219, 219, 141, 1.0)</td>\n",
       "      <td>rgba(23, 190, 207, 1.0)</td>\n",
       "      <td>rgba(158, 218, 229, 1.0)</td>\n",
       "      <td>rgba(31, 119, 180, 1.0)</td>\n",
       "      <td>rgba(174, 199, 232, 1.0)</td>\n",
       "      <td>rgba(255, 127, 14, 1.0)</td>\n",
       "      <td>rgba(255, 187, 120, 1.0)</td>\n",
       "      <td>rgba(44, 160, 44, 1.0)</td>\n",
       "      <td>rgba(0, 0, 0, 0.0)</td>\n",
       "    </tr>\n",
       "  </tbody>\n",
       "</table>\n",
       "<p>6 rows × 142 columns</p>\n",
       "</div>"
      ],
      "text/plain": [
       "                         0                         1                        2  \\\n",
       "0                        0                         0                        0   \n",
       "1                        3                         3                        3   \n",
       "2                        1                         1                       11   \n",
       "3              hom,het,hom                hom,wt,hom              hom,hom,het   \n",
       "4           (31, 119, 180)           (174, 199, 232)           (255, 127, 14)   \n",
       "5  rgba(31, 119, 180, 1.0)  rgba(174, 199, 232, 1.0)  rgba(255, 127, 14, 1.0)   \n",
       "\n",
       "                         3                         4                       5  \\\n",
       "0                        0                         0                       0   \n",
       "1                        3                         3                       3   \n",
       "2                        1                         5                       2   \n",
       "3              hom,hom,het               hom,hom,hom              hom,hom,wt   \n",
       "4           (255, 127, 14)           (255, 187, 120)           (44, 160, 44)   \n",
       "5  rgba(255, 127, 14, 1.0)  rgba(255, 187, 120, 1.0)  rgba(44, 160, 44, 1.0)   \n",
       "\n",
       "                         6                         7                       8  \\\n",
       "0                        1                         1                       1   \n",
       "1                        2                         4                       4   \n",
       "2                        1                         1                       3   \n",
       "3              hom,het,hom               het,het,hom             het,hom,hom   \n",
       "4           (31, 119, 180)           (152, 223, 138)           (214, 39, 40)   \n",
       "5  rgba(31, 119, 180, 1.0)  rgba(152, 223, 138, 1.0)  rgba(214, 39, 40, 1.0)   \n",
       "\n",
       "                          9  ...                        38  \\\n",
       "0                         1  ...                         8   \n",
       "1                         4  ...                        12   \n",
       "2                         6  ...                         4   \n",
       "3               hom,het,het  ...                het,het,wt   \n",
       "4           (255, 152, 150)  ...           (199, 199, 199)   \n",
       "5  rgba(255, 152, 150, 1.0)  ...  rgba(199, 199, 199, 1.0)   \n",
       "\n",
       "                         39                       40  \\\n",
       "0                         8                        8   \n",
       "1                        12                       12   \n",
       "2                         5                        1   \n",
       "3               het,hom,het               het,hom,wt   \n",
       "4           (219, 219, 141)           (23, 190, 207)   \n",
       "5  rgba(219, 219, 141, 1.0)  rgba(23, 190, 207, 1.0)   \n",
       "\n",
       "                         41                       42  \\\n",
       "0                         8                        8   \n",
       "1                        12                       12   \n",
       "2                         4                        3   \n",
       "3                het,wt,het               wt,het,het   \n",
       "4           (158, 218, 229)           (31, 119, 180)   \n",
       "5  rgba(158, 218, 229, 1.0)  rgba(31, 119, 180, 1.0)   \n",
       "\n",
       "                         43                       44  \\\n",
       "0                         8                        8   \n",
       "1                        12                       12   \n",
       "2                         1                        1   \n",
       "3                 wt,het,wt               wt,hom,het   \n",
       "4           (174, 199, 232)           (255, 127, 14)   \n",
       "5  rgba(174, 199, 232, 1.0)  rgba(255, 127, 14, 1.0)   \n",
       "\n",
       "                         45                      46          New_Column  \n",
       "0                         8                       8                  47  \n",
       "1                        12                      12                  48  \n",
       "2                         4                       1                 100  \n",
       "3                 wt,wt,het                wt,wt,wt              random  \n",
       "4           (255, 187, 120)           (44, 160, 44)           (0, 0, 0)  \n",
       "5  rgba(255, 187, 120, 1.0)  rgba(44, 160, 44, 1.0)  rgba(0, 0, 0, 0.0)  \n",
       "\n",
       "[6 rows x 142 columns]"
      ]
     },
     "execution_count": 17,
     "metadata": {},
     "output_type": "execute_result"
    }
   ],
   "source": [
    "new_column_df = pd.DataFrame.from_dict(new_row_dict, orient='index', columns=['New_Column']) # Converts the previous colour dictionary into a dataframe\n",
    "new_column_df.index = new_column_df.index.astype(int)\n",
    "sankey_df = sankey_df.join(new_column_df) # Joins the new column into the main dataset that will be plotted\n",
    "sankey_df"
   ]
  },
  {
   "cell_type": "code",
   "execution_count": 18,
   "metadata": {},
   "outputs": [],
   "source": [
    "# Recommended to run \n",
    "original_labels = labels.copy()\n",
    "original_col_list = col_list.copy()"
   ]
  },
  {
   "cell_type": "code",
   "execution_count": 19,
   "metadata": {},
   "outputs": [],
   "source": [
    "# As two new nodes have been included, this cell includes two empty labels for those new nodes and the link in white.\n",
    "# This cell is primarily for editing the figure, if the labels or colors are changes they will appear in the final figure\n",
    "for i in range(0,2):\n",
    "    labels.append('')\n",
    "    col_list.append('white')\n",
    "assert len(labels) == len(col_list), \"Labels and colors lists must have the same length\"\n",
    "# If the labels and colors list don´t have the same length ensure the correct number of additional labels and colors have been added"
   ]
  },
  {
   "cell_type": "markdown",
   "metadata": {},
   "source": [
    "## Sankey diagram - Whole dataset"
   ]
  },
  {
   "cell_type": "code",
   "execution_count": 20,
   "metadata": {},
   "outputs": [],
   "source": [
    "# Create the Sankey object\n",
    "\n",
    "def Sankey_object(sankey_df):\n",
    "    data = {'data': [{'type': 'sankey',\n",
    "                'domain': {'x': [0, 1], 'y': [0, 1]},\n",
    "                'orientation': 'h',\n",
    "                'valueformat': '.0f',\n",
    "                \"arrangement\": \"freeform\",\n",
    "                'node': {\n",
    "                        'pad': 30,\n",
    "                        'thickness': 15,\n",
    "                        'line': {'color': 'white', 'width': 0.0},  # define the appearance of the lines\n",
    "                        'label': labels, # define the list of labels\n",
    "                        'color': col_list, # define the colors for each label          \n",
    "                        },\n",
    "                'link':{'source': sankey_df.iloc[0], # Defines the source node\n",
    "                        'target': sankey_df.iloc[1], # Defines the target node\n",
    "                        'value': sankey_df.iloc[2], # Defines the value (aka width) that connects the previous two nodes\n",
    "                        'label': sankey_df.iloc[3], # Defines the label of the node\n",
    "                        'color': sankey_df.iloc[5], # Defines the colour of the line connecting two nodes based on genotype\n",
    "                }\n",
    "                }]\n",
    "        }\n",
    "\n",
    "    return data"
   ]
  },
  {
   "cell_type": "code",
   "execution_count": 21,
   "metadata": {},
   "outputs": [],
   "source": [
    "sankey_obj = Sankey_object(sankey_df)"
   ]
  },
  {
   "cell_type": "code",
   "execution_count": 22,
   "metadata": {},
   "outputs": [],
   "source": [
    "# Plot the Sankey diagram\n",
    "\n",
    "def Sankey_plot(sankey_obj):\n",
    "  \n",
    "  start_time = time.time()\n",
    "\n",
    "  fig = go.Figure(\n",
    "    data=[go.Sankey(**sankey_obj['data'][0])]\n",
    "  )\n",
    "\n",
    "  fig.update_layout(title_text=\"Oedema evolution\", font_size=10, autosize = False)\n",
    "  fig.show()\n",
    "  \n",
    "  print(\"\\n--- %s seconds ---\" % (time.time() - start_time))\n",
    "\n",
    "  return fig"
   ]
  },
  {
   "cell_type": "code",
   "execution_count": 23,
   "metadata": {},
   "outputs": [
    {
     "data": {
      "application/vnd.plotly.v1+json": {
       "config": {
        "plotlyServerURL": "https://plot.ly"
       },
       "data": [
        {
         "arrangement": "freeform",
         "domain": {
          "x": [
           0,
           1
          ],
          "y": [
           0,
           1
          ]
         },
         "link": {
          "color": [
           "rgba(31, 119, 180, 1.0)",
           "rgba(174, 199, 232, 1.0)",
           "rgba(255, 127, 14, 1.0)",
           "rgba(255, 127, 14, 1.0)",
           "rgba(255, 187, 120, 1.0)",
           "rgba(44, 160, 44, 1.0)",
           "rgba(31, 119, 180, 1.0)",
           "rgba(152, 223, 138, 1.0)",
           "rgba(214, 39, 40, 1.0)",
           "rgba(255, 152, 150, 1.0)",
           "rgba(148, 103, 189, 1.0)",
           "rgba(197, 176, 213, 1.0)",
           "rgba(140, 86, 75, 1.0)",
           "rgba(196, 156, 148, 1.0)",
           "rgba(152, 223, 138, 1.0)",
           "rgba(227, 119, 194, 1.0)",
           "rgba(255, 152, 150, 1.0)",
           "rgba(31, 119, 180, 1.0)",
           "rgba(148, 103, 189, 1.0)",
           "rgba(247, 182, 210, 1.0)",
           "rgba(196, 156, 148, 1.0)",
           "rgba(127, 127, 127, 1.0)",
           "rgba(152, 223, 138, 1.0)",
           "rgba(199, 199, 199, 1.0)",
           "rgba(255, 152, 150, 1.0)",
           "rgba(188, 189, 34, 1.0)",
           "rgba(219, 219, 141, 1.0)",
           "rgba(214, 39, 40, 1.0)",
           "rgba(255, 152, 150, 1.0)",
           "rgba(197, 176, 213, 1.0)",
           "rgba(140, 86, 75, 1.0)",
           "rgba(196, 156, 148, 1.0)",
           "rgba(255, 152, 150, 1.0)",
           "rgba(152, 223, 138, 1.0)",
           "rgba(174, 199, 232, 1.0)",
           "rgba(127, 127, 127, 1.0)",
           "rgba(227, 119, 194, 1.0)",
           "rgba(188, 189, 34, 1.0)",
           "rgba(199, 199, 199, 1.0)",
           "rgba(219, 219, 141, 1.0)",
           "rgba(23, 190, 207, 1.0)",
           "rgba(158, 218, 229, 1.0)",
           "rgba(31, 119, 180, 1.0)",
           "rgba(174, 199, 232, 1.0)",
           "rgba(255, 127, 14, 1.0)",
           "rgba(255, 187, 120, 1.0)",
           "rgba(44, 160, 44, 1.0)",
           "rgba(31, 119, 180, 1.0)",
           "rgba(174, 199, 232, 1.0)",
           "rgba(255, 127, 14, 1.0)",
           "rgba(255, 127, 14, 1.0)",
           "rgba(255, 187, 120, 1.0)",
           "rgba(44, 160, 44, 1.0)",
           "rgba(31, 119, 180, 1.0)",
           "rgba(152, 223, 138, 1.0)",
           "rgba(214, 39, 40, 1.0)",
           "rgba(255, 152, 150, 1.0)",
           "rgba(148, 103, 189, 1.0)",
           "rgba(197, 176, 213, 1.0)",
           "rgba(140, 86, 75, 1.0)",
           "rgba(196, 156, 148, 1.0)",
           "rgba(152, 223, 138, 1.0)",
           "rgba(227, 119, 194, 1.0)",
           "rgba(255, 152, 150, 1.0)",
           "rgba(31, 119, 180, 1.0)",
           "rgba(148, 103, 189, 1.0)",
           "rgba(247, 182, 210, 1.0)",
           "rgba(196, 156, 148, 1.0)",
           "rgba(127, 127, 127, 1.0)",
           "rgba(152, 223, 138, 1.0)",
           "rgba(199, 199, 199, 1.0)",
           "rgba(255, 152, 150, 1.0)",
           "rgba(188, 189, 34, 1.0)",
           "rgba(219, 219, 141, 1.0)",
           "rgba(214, 39, 40, 1.0)",
           "rgba(255, 152, 150, 1.0)",
           "rgba(197, 176, 213, 1.0)",
           "rgba(140, 86, 75, 1.0)",
           "rgba(196, 156, 148, 1.0)",
           "rgba(255, 152, 150, 1.0)",
           "rgba(152, 223, 138, 1.0)",
           "rgba(174, 199, 232, 1.0)",
           "rgba(127, 127, 127, 1.0)",
           "rgba(227, 119, 194, 1.0)",
           "rgba(188, 189, 34, 1.0)",
           "rgba(199, 199, 199, 1.0)",
           "rgba(219, 219, 141, 1.0)",
           "rgba(23, 190, 207, 1.0)",
           "rgba(158, 218, 229, 1.0)",
           "rgba(31, 119, 180, 1.0)",
           "rgba(174, 199, 232, 1.0)",
           "rgba(255, 127, 14, 1.0)",
           "rgba(255, 187, 120, 1.0)",
           "rgba(44, 160, 44, 1.0)",
           "rgba(31, 119, 180, 1.0)",
           "rgba(174, 199, 232, 1.0)",
           "rgba(255, 127, 14, 1.0)",
           "rgba(255, 127, 14, 1.0)",
           "rgba(255, 187, 120, 1.0)",
           "rgba(44, 160, 44, 1.0)",
           "rgba(31, 119, 180, 1.0)",
           "rgba(152, 223, 138, 1.0)",
           "rgba(214, 39, 40, 1.0)",
           "rgba(255, 152, 150, 1.0)",
           "rgba(148, 103, 189, 1.0)",
           "rgba(197, 176, 213, 1.0)",
           "rgba(140, 86, 75, 1.0)",
           "rgba(196, 156, 148, 1.0)",
           "rgba(152, 223, 138, 1.0)",
           "rgba(227, 119, 194, 1.0)",
           "rgba(255, 152, 150, 1.0)",
           "rgba(31, 119, 180, 1.0)",
           "rgba(148, 103, 189, 1.0)",
           "rgba(247, 182, 210, 1.0)",
           "rgba(196, 156, 148, 1.0)",
           "rgba(127, 127, 127, 1.0)",
           "rgba(152, 223, 138, 1.0)",
           "rgba(199, 199, 199, 1.0)",
           "rgba(255, 152, 150, 1.0)",
           "rgba(188, 189, 34, 1.0)",
           "rgba(219, 219, 141, 1.0)",
           "rgba(214, 39, 40, 1.0)",
           "rgba(255, 152, 150, 1.0)",
           "rgba(197, 176, 213, 1.0)",
           "rgba(140, 86, 75, 1.0)",
           "rgba(196, 156, 148, 1.0)",
           "rgba(255, 152, 150, 1.0)",
           "rgba(152, 223, 138, 1.0)",
           "rgba(174, 199, 232, 1.0)",
           "rgba(127, 127, 127, 1.0)",
           "rgba(227, 119, 194, 1.0)",
           "rgba(188, 189, 34, 1.0)",
           "rgba(199, 199, 199, 1.0)",
           "rgba(219, 219, 141, 1.0)",
           "rgba(23, 190, 207, 1.0)",
           "rgba(158, 218, 229, 1.0)",
           "rgba(31, 119, 180, 1.0)",
           "rgba(174, 199, 232, 1.0)",
           "rgba(255, 127, 14, 1.0)",
           "rgba(255, 187, 120, 1.0)",
           "rgba(44, 160, 44, 1.0)",
           "rgba(0, 0, 0, 0.0)"
          ],
          "label": [
           "hom,het,hom",
           "hom,wt,hom",
           "hom,hom,het",
           "hom,hom,het",
           "hom,hom,hom",
           "hom,hom,wt",
           "hom,het,hom",
           "het,het,hom",
           "het,hom,hom",
           "hom,het,het",
           "hom,het,wt",
           "hom,wt,het",
           "hom,wt,wt",
           "wt,hom,hom",
           "het,het,hom",
           "het,wt,hom",
           "hom,het,het",
           "hom,het,hom",
           "hom,het,wt",
           "wt,het,hom",
           "wt,hom,hom",
           "wt,wt,hom",
           "het,het,hom",
           "het,het,wt",
           "hom,het,het",
           "het,het,het",
           "het,hom,het",
           "het,hom,hom",
           "hom,het,het",
           "hom,wt,het",
           "hom,wt,wt",
           "wt,hom,hom",
           "hom,het,het",
           "het,het,hom",
           "hom,wt,hom",
           "wt,wt,hom",
           "het,wt,hom",
           "het,het,het",
           "het,het,wt",
           "het,hom,het",
           "het,hom,wt",
           "het,wt,het",
           "wt,het,het",
           "wt,het,wt",
           "wt,hom,het",
           "wt,wt,het",
           "wt,wt,wt",
           "hom,het,hom",
           "hom,wt,hom",
           "hom,hom,het",
           "hom,hom,het",
           "hom,hom,hom",
           "hom,hom,wt",
           "hom,het,hom",
           "het,het,hom",
           "het,hom,hom",
           "hom,het,het",
           "hom,het,wt",
           "hom,wt,het",
           "hom,wt,wt",
           "wt,hom,hom",
           "het,het,hom",
           "het,wt,hom",
           "hom,het,het",
           "hom,het,hom",
           "hom,het,wt",
           "wt,het,hom",
           "wt,hom,hom",
           "wt,wt,hom",
           "het,het,hom",
           "het,het,wt",
           "hom,het,het",
           "het,het,het",
           "het,hom,het",
           "het,hom,hom",
           "hom,het,het",
           "hom,wt,het",
           "hom,wt,wt",
           "wt,hom,hom",
           "hom,het,het",
           "het,het,hom",
           "hom,wt,hom",
           "wt,wt,hom",
           "het,wt,hom",
           "het,het,het",
           "het,het,wt",
           "het,hom,het",
           "het,hom,wt",
           "het,wt,het",
           "wt,het,het",
           "wt,het,wt",
           "wt,hom,het",
           "wt,wt,het",
           "wt,wt,wt",
           "hom,het,hom",
           "hom,wt,hom",
           "hom,hom,het",
           "hom,hom,het",
           "hom,hom,hom",
           "hom,hom,wt",
           "hom,het,hom",
           "het,het,hom",
           "het,hom,hom",
           "hom,het,het",
           "hom,het,wt",
           "hom,wt,het",
           "hom,wt,wt",
           "wt,hom,hom",
           "het,het,hom",
           "het,wt,hom",
           "hom,het,het",
           "hom,het,hom",
           "hom,het,wt",
           "wt,het,hom",
           "wt,hom,hom",
           "wt,wt,hom",
           "het,het,hom",
           "het,het,wt",
           "hom,het,het",
           "het,het,het",
           "het,hom,het",
           "het,hom,hom",
           "hom,het,het",
           "hom,wt,het",
           "hom,wt,wt",
           "wt,hom,hom",
           "hom,het,het",
           "het,het,hom",
           "hom,wt,hom",
           "wt,wt,hom",
           "het,wt,hom",
           "het,het,het",
           "het,het,wt",
           "het,hom,het",
           "het,hom,wt",
           "het,wt,het",
           "wt,het,het",
           "wt,het,wt",
           "wt,hom,het",
           "wt,wt,het",
           "wt,wt,wt",
           "random"
          ],
          "source": [
           0,
           0,
           0,
           0,
           0,
           0,
           1,
           1,
           1,
           1,
           1,
           1,
           1,
           1,
           1,
           1,
           1,
           1,
           1,
           1,
           1,
           1,
           1,
           1,
           1,
           1,
           1,
           1,
           1,
           1,
           1,
           1,
           1,
           1,
           1,
           1,
           1,
           1,
           1,
           1,
           1,
           1,
           1,
           1,
           1,
           1,
           1,
           3,
           3,
           3,
           3,
           3,
           3,
           2,
           4,
           4,
           4,
           4,
           4,
           4,
           4,
           4,
           4,
           4,
           4,
           4,
           4,
           4,
           4,
           4,
           4,
           4,
           4,
           4,
           4,
           4,
           4,
           4,
           4,
           4,
           4,
           4,
           4,
           4,
           4,
           4,
           4,
           4,
           4,
           4,
           4,
           4,
           4,
           4,
           6,
           6,
           7,
           6,
           7,
           7,
           6,
           5,
           5,
           5,
           5,
           5,
           5,
           5,
           5,
           5,
           5,
           5,
           5,
           5,
           5,
           5,
           5,
           5,
           5,
           5,
           5,
           5,
           5,
           5,
           5,
           5,
           6,
           6,
           6,
           6,
           7,
           8,
           8,
           8,
           8,
           8,
           8,
           8,
           8,
           8,
           8,
           47
          ],
          "target": [
           3,
           3,
           3,
           3,
           3,
           3,
           2,
           4,
           4,
           4,
           4,
           4,
           4,
           4,
           4,
           4,
           4,
           4,
           4,
           4,
           4,
           4,
           4,
           4,
           4,
           4,
           4,
           4,
           4,
           4,
           4,
           4,
           4,
           4,
           4,
           4,
           4,
           4,
           4,
           4,
           4,
           4,
           4,
           4,
           4,
           4,
           4,
           6,
           6,
           7,
           6,
           7,
           7,
           6,
           5,
           5,
           5,
           5,
           5,
           5,
           5,
           5,
           5,
           5,
           5,
           5,
           5,
           5,
           5,
           5,
           5,
           5,
           5,
           5,
           5,
           5,
           5,
           5,
           5,
           6,
           6,
           6,
           6,
           7,
           8,
           8,
           8,
           8,
           8,
           8,
           8,
           8,
           8,
           8,
           10,
           11,
           11,
           11,
           11,
           11,
           11,
           9,
           9,
           9,
           9,
           9,
           9,
           9,
           10,
           10,
           10,
           10,
           10,
           10,
           10,
           10,
           11,
           11,
           11,
           9,
           9,
           9,
           9,
           9,
           9,
           9,
           10,
           11,
           11,
           11,
           11,
           12,
           12,
           12,
           12,
           12,
           12,
           12,
           12,
           12,
           12,
           48
          ],
          "value": [
           1,
           1,
           11,
           1,
           5,
           2,
           1,
           1,
           3,
           6,
           5,
           3,
           1,
           5,
           6,
           3,
           3,
           1,
           1,
           4,
           1,
           1,
           4,
           1,
           1,
           1,
           1,
           5,
           2,
           4,
           2,
           2,
           1,
           1,
           1,
           1,
           1,
           8,
           4,
           5,
           1,
           4,
           3,
           1,
           1,
           4,
           1,
           1,
           1,
           11,
           1,
           5,
           2,
           1,
           1,
           3,
           6,
           5,
           3,
           1,
           5,
           6,
           3,
           3,
           1,
           1,
           4,
           1,
           1,
           4,
           1,
           1,
           1,
           1,
           5,
           2,
           4,
           2,
           2,
           1,
           1,
           1,
           1,
           1,
           8,
           4,
           5,
           1,
           4,
           3,
           1,
           1,
           4,
           1,
           1,
           1,
           11,
           1,
           5,
           2,
           1,
           1,
           3,
           6,
           5,
           3,
           1,
           5,
           6,
           3,
           3,
           1,
           1,
           4,
           1,
           1,
           4,
           1,
           1,
           1,
           1,
           5,
           2,
           4,
           2,
           2,
           1,
           1,
           1,
           1,
           1,
           8,
           4,
           5,
           1,
           4,
           3,
           1,
           1,
           4,
           1,
           100
          ]
         },
         "node": {
          "color": [
           "darkgrey",
           "darkgrey",
           "darkgrey",
           "darkgrey",
           "darkgrey",
           "darkgrey",
           "darkgrey",
           "darkgrey",
           "darkgrey",
           "darkgrey",
           "darkgrey",
           "darkgrey",
           "darkgrey",
           "white",
           "white"
          ],
          "label": [
           "2dpf_D",
           "2dpf_WT",
           "3dpf_D",
           "3dpf_D&C1",
           "3dpf_WT",
           "4dpf_C1",
           "4dpf_C2",
           "4dpf_C3",
           "4dpf_WT",
           "5dpf_C1",
           "5dpf_C2",
           "5dpf_C3",
           "5dpf_WT",
           "",
           ""
          ],
          "line": {
           "color": "white",
           "width": 0
          },
          "pad": 30,
          "thickness": 15
         },
         "orientation": "h",
         "type": "sankey",
         "valueformat": ".0f"
        }
       ],
       "layout": {
        "autosize": false,
        "font": {
         "size": 10
        },
        "template": {
         "data": {
          "bar": [
           {
            "error_x": {
             "color": "#2a3f5f"
            },
            "error_y": {
             "color": "#2a3f5f"
            },
            "marker": {
             "line": {
              "color": "#E5ECF6",
              "width": 0.5
             },
             "pattern": {
              "fillmode": "overlay",
              "size": 10,
              "solidity": 0.2
             }
            },
            "type": "bar"
           }
          ],
          "barpolar": [
           {
            "marker": {
             "line": {
              "color": "#E5ECF6",
              "width": 0.5
             },
             "pattern": {
              "fillmode": "overlay",
              "size": 10,
              "solidity": 0.2
             }
            },
            "type": "barpolar"
           }
          ],
          "carpet": [
           {
            "aaxis": {
             "endlinecolor": "#2a3f5f",
             "gridcolor": "white",
             "linecolor": "white",
             "minorgridcolor": "white",
             "startlinecolor": "#2a3f5f"
            },
            "baxis": {
             "endlinecolor": "#2a3f5f",
             "gridcolor": "white",
             "linecolor": "white",
             "minorgridcolor": "white",
             "startlinecolor": "#2a3f5f"
            },
            "type": "carpet"
           }
          ],
          "choropleth": [
           {
            "colorbar": {
             "outlinewidth": 0,
             "ticks": ""
            },
            "type": "choropleth"
           }
          ],
          "contour": [
           {
            "colorbar": {
             "outlinewidth": 0,
             "ticks": ""
            },
            "colorscale": [
             [
              0,
              "#0d0887"
             ],
             [
              0.1111111111111111,
              "#46039f"
             ],
             [
              0.2222222222222222,
              "#7201a8"
             ],
             [
              0.3333333333333333,
              "#9c179e"
             ],
             [
              0.4444444444444444,
              "#bd3786"
             ],
             [
              0.5555555555555556,
              "#d8576b"
             ],
             [
              0.6666666666666666,
              "#ed7953"
             ],
             [
              0.7777777777777778,
              "#fb9f3a"
             ],
             [
              0.8888888888888888,
              "#fdca26"
             ],
             [
              1,
              "#f0f921"
             ]
            ],
            "type": "contour"
           }
          ],
          "contourcarpet": [
           {
            "colorbar": {
             "outlinewidth": 0,
             "ticks": ""
            },
            "type": "contourcarpet"
           }
          ],
          "heatmap": [
           {
            "colorbar": {
             "outlinewidth": 0,
             "ticks": ""
            },
            "colorscale": [
             [
              0,
              "#0d0887"
             ],
             [
              0.1111111111111111,
              "#46039f"
             ],
             [
              0.2222222222222222,
              "#7201a8"
             ],
             [
              0.3333333333333333,
              "#9c179e"
             ],
             [
              0.4444444444444444,
              "#bd3786"
             ],
             [
              0.5555555555555556,
              "#d8576b"
             ],
             [
              0.6666666666666666,
              "#ed7953"
             ],
             [
              0.7777777777777778,
              "#fb9f3a"
             ],
             [
              0.8888888888888888,
              "#fdca26"
             ],
             [
              1,
              "#f0f921"
             ]
            ],
            "type": "heatmap"
           }
          ],
          "heatmapgl": [
           {
            "colorbar": {
             "outlinewidth": 0,
             "ticks": ""
            },
            "colorscale": [
             [
              0,
              "#0d0887"
             ],
             [
              0.1111111111111111,
              "#46039f"
             ],
             [
              0.2222222222222222,
              "#7201a8"
             ],
             [
              0.3333333333333333,
              "#9c179e"
             ],
             [
              0.4444444444444444,
              "#bd3786"
             ],
             [
              0.5555555555555556,
              "#d8576b"
             ],
             [
              0.6666666666666666,
              "#ed7953"
             ],
             [
              0.7777777777777778,
              "#fb9f3a"
             ],
             [
              0.8888888888888888,
              "#fdca26"
             ],
             [
              1,
              "#f0f921"
             ]
            ],
            "type": "heatmapgl"
           }
          ],
          "histogram": [
           {
            "marker": {
             "pattern": {
              "fillmode": "overlay",
              "size": 10,
              "solidity": 0.2
             }
            },
            "type": "histogram"
           }
          ],
          "histogram2d": [
           {
            "colorbar": {
             "outlinewidth": 0,
             "ticks": ""
            },
            "colorscale": [
             [
              0,
              "#0d0887"
             ],
             [
              0.1111111111111111,
              "#46039f"
             ],
             [
              0.2222222222222222,
              "#7201a8"
             ],
             [
              0.3333333333333333,
              "#9c179e"
             ],
             [
              0.4444444444444444,
              "#bd3786"
             ],
             [
              0.5555555555555556,
              "#d8576b"
             ],
             [
              0.6666666666666666,
              "#ed7953"
             ],
             [
              0.7777777777777778,
              "#fb9f3a"
             ],
             [
              0.8888888888888888,
              "#fdca26"
             ],
             [
              1,
              "#f0f921"
             ]
            ],
            "type": "histogram2d"
           }
          ],
          "histogram2dcontour": [
           {
            "colorbar": {
             "outlinewidth": 0,
             "ticks": ""
            },
            "colorscale": [
             [
              0,
              "#0d0887"
             ],
             [
              0.1111111111111111,
              "#46039f"
             ],
             [
              0.2222222222222222,
              "#7201a8"
             ],
             [
              0.3333333333333333,
              "#9c179e"
             ],
             [
              0.4444444444444444,
              "#bd3786"
             ],
             [
              0.5555555555555556,
              "#d8576b"
             ],
             [
              0.6666666666666666,
              "#ed7953"
             ],
             [
              0.7777777777777778,
              "#fb9f3a"
             ],
             [
              0.8888888888888888,
              "#fdca26"
             ],
             [
              1,
              "#f0f921"
             ]
            ],
            "type": "histogram2dcontour"
           }
          ],
          "mesh3d": [
           {
            "colorbar": {
             "outlinewidth": 0,
             "ticks": ""
            },
            "type": "mesh3d"
           }
          ],
          "parcoords": [
           {
            "line": {
             "colorbar": {
              "outlinewidth": 0,
              "ticks": ""
             }
            },
            "type": "parcoords"
           }
          ],
          "pie": [
           {
            "automargin": true,
            "type": "pie"
           }
          ],
          "scatter": [
           {
            "fillpattern": {
             "fillmode": "overlay",
             "size": 10,
             "solidity": 0.2
            },
            "type": "scatter"
           }
          ],
          "scatter3d": [
           {
            "line": {
             "colorbar": {
              "outlinewidth": 0,
              "ticks": ""
             }
            },
            "marker": {
             "colorbar": {
              "outlinewidth": 0,
              "ticks": ""
             }
            },
            "type": "scatter3d"
           }
          ],
          "scattercarpet": [
           {
            "marker": {
             "colorbar": {
              "outlinewidth": 0,
              "ticks": ""
             }
            },
            "type": "scattercarpet"
           }
          ],
          "scattergeo": [
           {
            "marker": {
             "colorbar": {
              "outlinewidth": 0,
              "ticks": ""
             }
            },
            "type": "scattergeo"
           }
          ],
          "scattergl": [
           {
            "marker": {
             "colorbar": {
              "outlinewidth": 0,
              "ticks": ""
             }
            },
            "type": "scattergl"
           }
          ],
          "scattermapbox": [
           {
            "marker": {
             "colorbar": {
              "outlinewidth": 0,
              "ticks": ""
             }
            },
            "type": "scattermapbox"
           }
          ],
          "scatterpolar": [
           {
            "marker": {
             "colorbar": {
              "outlinewidth": 0,
              "ticks": ""
             }
            },
            "type": "scatterpolar"
           }
          ],
          "scatterpolargl": [
           {
            "marker": {
             "colorbar": {
              "outlinewidth": 0,
              "ticks": ""
             }
            },
            "type": "scatterpolargl"
           }
          ],
          "scatterternary": [
           {
            "marker": {
             "colorbar": {
              "outlinewidth": 0,
              "ticks": ""
             }
            },
            "type": "scatterternary"
           }
          ],
          "surface": [
           {
            "colorbar": {
             "outlinewidth": 0,
             "ticks": ""
            },
            "colorscale": [
             [
              0,
              "#0d0887"
             ],
             [
              0.1111111111111111,
              "#46039f"
             ],
             [
              0.2222222222222222,
              "#7201a8"
             ],
             [
              0.3333333333333333,
              "#9c179e"
             ],
             [
              0.4444444444444444,
              "#bd3786"
             ],
             [
              0.5555555555555556,
              "#d8576b"
             ],
             [
              0.6666666666666666,
              "#ed7953"
             ],
             [
              0.7777777777777778,
              "#fb9f3a"
             ],
             [
              0.8888888888888888,
              "#fdca26"
             ],
             [
              1,
              "#f0f921"
             ]
            ],
            "type": "surface"
           }
          ],
          "table": [
           {
            "cells": {
             "fill": {
              "color": "#EBF0F8"
             },
             "line": {
              "color": "white"
             }
            },
            "header": {
             "fill": {
              "color": "#C8D4E3"
             },
             "line": {
              "color": "white"
             }
            },
            "type": "table"
           }
          ]
         },
         "layout": {
          "annotationdefaults": {
           "arrowcolor": "#2a3f5f",
           "arrowhead": 0,
           "arrowwidth": 1
          },
          "autotypenumbers": "strict",
          "coloraxis": {
           "colorbar": {
            "outlinewidth": 0,
            "ticks": ""
           }
          },
          "colorscale": {
           "diverging": [
            [
             0,
             "#8e0152"
            ],
            [
             0.1,
             "#c51b7d"
            ],
            [
             0.2,
             "#de77ae"
            ],
            [
             0.3,
             "#f1b6da"
            ],
            [
             0.4,
             "#fde0ef"
            ],
            [
             0.5,
             "#f7f7f7"
            ],
            [
             0.6,
             "#e6f5d0"
            ],
            [
             0.7,
             "#b8e186"
            ],
            [
             0.8,
             "#7fbc41"
            ],
            [
             0.9,
             "#4d9221"
            ],
            [
             1,
             "#276419"
            ]
           ],
           "sequential": [
            [
             0,
             "#0d0887"
            ],
            [
             0.1111111111111111,
             "#46039f"
            ],
            [
             0.2222222222222222,
             "#7201a8"
            ],
            [
             0.3333333333333333,
             "#9c179e"
            ],
            [
             0.4444444444444444,
             "#bd3786"
            ],
            [
             0.5555555555555556,
             "#d8576b"
            ],
            [
             0.6666666666666666,
             "#ed7953"
            ],
            [
             0.7777777777777778,
             "#fb9f3a"
            ],
            [
             0.8888888888888888,
             "#fdca26"
            ],
            [
             1,
             "#f0f921"
            ]
           ],
           "sequentialminus": [
            [
             0,
             "#0d0887"
            ],
            [
             0.1111111111111111,
             "#46039f"
            ],
            [
             0.2222222222222222,
             "#7201a8"
            ],
            [
             0.3333333333333333,
             "#9c179e"
            ],
            [
             0.4444444444444444,
             "#bd3786"
            ],
            [
             0.5555555555555556,
             "#d8576b"
            ],
            [
             0.6666666666666666,
             "#ed7953"
            ],
            [
             0.7777777777777778,
             "#fb9f3a"
            ],
            [
             0.8888888888888888,
             "#fdca26"
            ],
            [
             1,
             "#f0f921"
            ]
           ]
          },
          "colorway": [
           "#636efa",
           "#EF553B",
           "#00cc96",
           "#ab63fa",
           "#FFA15A",
           "#19d3f3",
           "#FF6692",
           "#B6E880",
           "#FF97FF",
           "#FECB52"
          ],
          "font": {
           "color": "#2a3f5f"
          },
          "geo": {
           "bgcolor": "white",
           "lakecolor": "white",
           "landcolor": "#E5ECF6",
           "showlakes": true,
           "showland": true,
           "subunitcolor": "white"
          },
          "hoverlabel": {
           "align": "left"
          },
          "hovermode": "closest",
          "mapbox": {
           "style": "light"
          },
          "paper_bgcolor": "white",
          "plot_bgcolor": "#E5ECF6",
          "polar": {
           "angularaxis": {
            "gridcolor": "white",
            "linecolor": "white",
            "ticks": ""
           },
           "bgcolor": "#E5ECF6",
           "radialaxis": {
            "gridcolor": "white",
            "linecolor": "white",
            "ticks": ""
           }
          },
          "scene": {
           "xaxis": {
            "backgroundcolor": "#E5ECF6",
            "gridcolor": "white",
            "gridwidth": 2,
            "linecolor": "white",
            "showbackground": true,
            "ticks": "",
            "zerolinecolor": "white"
           },
           "yaxis": {
            "backgroundcolor": "#E5ECF6",
            "gridcolor": "white",
            "gridwidth": 2,
            "linecolor": "white",
            "showbackground": true,
            "ticks": "",
            "zerolinecolor": "white"
           },
           "zaxis": {
            "backgroundcolor": "#E5ECF6",
            "gridcolor": "white",
            "gridwidth": 2,
            "linecolor": "white",
            "showbackground": true,
            "ticks": "",
            "zerolinecolor": "white"
           }
          },
          "shapedefaults": {
           "line": {
            "color": "#2a3f5f"
           }
          },
          "ternary": {
           "aaxis": {
            "gridcolor": "white",
            "linecolor": "white",
            "ticks": ""
           },
           "baxis": {
            "gridcolor": "white",
            "linecolor": "white",
            "ticks": ""
           },
           "bgcolor": "#E5ECF6",
           "caxis": {
            "gridcolor": "white",
            "linecolor": "white",
            "ticks": ""
           }
          },
          "title": {
           "x": 0.05
          },
          "xaxis": {
           "automargin": true,
           "gridcolor": "white",
           "linecolor": "white",
           "ticks": "",
           "title": {
            "standoff": 15
           },
           "zerolinecolor": "white",
           "zerolinewidth": 2
          },
          "yaxis": {
           "automargin": true,
           "gridcolor": "white",
           "linecolor": "white",
           "ticks": "",
           "title": {
            "standoff": 15
           },
           "zerolinecolor": "white",
           "zerolinewidth": 2
          }
         }
        },
        "title": {
         "text": "Oedema evolution"
        }
       }
      }
     },
     "metadata": {},
     "output_type": "display_data"
    },
    {
     "name": "stdout",
     "output_type": "stream",
     "text": [
      "\n",
      "--- 0.12483096122741699 seconds ---\n"
     ]
    }
   ],
   "source": [
    "plot = Sankey_plot(sankey_obj)"
   ]
  },
  {
   "cell_type": "code",
   "execution_count": null,
   "metadata": {},
   "outputs": [],
   "source": [
    "title = 'Triples_phenotype_dataset.html'\n",
    "plot.write_html(title) # Save the Sankey plot as a .html file"
   ]
  },
  {
   "cell_type": "markdown",
   "metadata": {},
   "source": [
    "## Sankey diagram - Individual samples"
   ]
  },
  {
   "cell_type": "code",
   "execution_count": 24,
   "metadata": {},
   "outputs": [
    {
     "name": "stdout",
     "output_type": "stream",
     "text": [
      "['hom,het,hom', 'hom,wt,hom', 'hom,hom,het', 'hom,hom,hom', 'hom,hom,wt']\n",
      "26\n"
     ]
    }
   ],
   "source": [
    "genolist.append('blank spacer') # Include a spacer to the original list of genotypes\n",
    "print(genolist[:5])\n",
    "print(len(genolist))"
   ]
  },
  {
   "cell_type": "code",
   "execution_count": 25,
   "metadata": {},
   "outputs": [],
   "source": [
    "# Define the colours for each genotype. The last one (blank spacer) should always be set as 'rgba(0, 0, 0, 0.0)'\n",
    "# The length of the following dataframe must be equal to the length of the genolist varaible\n",
    "genotype_colors = ['rgba(31, 119, 180,1.0)',\n",
    "                    'rgba(174, 199, 232,1.0)',\n",
    "                    'rgba(255, 127, 14,1.0)',\n",
    "                    'rgba(255, 187, 120,1.0)',\n",
    "                    'rgba(44, 160, 44,1.0)',\n",
    "                    'rgba(152, 223, 138,1.0)',\n",
    "                    'rgba(214, 39, 40,1.0)',\n",
    "                    'rgba(255, 152, 150,1.0)',\n",
    "                    'rgba(148, 103, 189,1.0)',\n",
    "                    'rgba(197, 176, 213,1.0)',\n",
    "                    'rgba(140, 86, 75,1.0)',\n",
    "                    'rgba(196, 156, 148,1.0)',\n",
    "                    'rgba(227, 119, 194,1.0)',\n",
    "                    'rgba(247, 182, 210,1.0)',\n",
    "                    'rgba(127, 127, 127,1.0)',\n",
    "                    'rgba(199, 199, 199,1.0)',\n",
    "                    'rgba(188, 189, 34,1.0)',\n",
    "                    'rgba(219, 219, 141,1.0)',\n",
    "                    'rgba(23, 190, 207,1.0)',\n",
    "                    'rgba(158, 218, 229,1.0)',\n",
    "                    'rgba(31, 119, 180,1.0)',\n",
    "                    'rgba(174, 199, 232,1.0)',\n",
    "                    'rgba(255, 127, 14,1.0)',\n",
    "                    'rgba(255, 187, 120,1.0)',\n",
    "                    'rgba(44, 160, 44,1.0)',\n",
    "                    'rgba(0, 0, 0,0)',\n",
    "                   ]"
   ]
  },
  {
   "cell_type": "code",
   "execution_count": 27,
   "metadata": {},
   "outputs": [],
   "source": [
    "assert len(genolist) == len(genotype_colors), \"Labels and colors lists must have the same length\"\n",
    "# The list of genotype_colors should have an additional row specifing the colour of the blank spaces"
   ]
  },
  {
   "cell_type": "code",
   "execution_count": 28,
   "metadata": {},
   "outputs": [
    {
     "name": "stdout",
     "output_type": "stream",
     "text": [
      "['hom,het,hom', 'hom,wt,hom', 'hom,hom,het', 'hom,hom,hom', 'hom,hom,wt', 'het,het,hom', 'het,hom,hom', 'hom,het,het', 'hom,het,wt', 'hom,wt,het', 'hom,wt,wt', 'wt,hom,hom', 'het,wt,hom', 'wt,het,hom', 'wt,wt,hom', 'het,het,wt', 'het,het,het', 'het,hom,het', 'het,hom,wt', 'het,wt,het', 'wt,het,het', 'wt,het,wt', 'wt,hom,het', 'wt,wt,het', 'wt,wt,wt', 'random']\n"
     ]
    }
   ],
   "source": [
    "print(sankey_obj['data'][0]['link']['label'].unique().tolist()) # Get the list of all genotypes\n",
    "geno_color = 'hom,hom,hom' # Define the genotype that will be colored"
   ]
  },
  {
   "cell_type": "code",
   "execution_count": 29,
   "metadata": {},
   "outputs": [],
   "source": [
    "# Plot the Sankey diagram\n",
    "\n",
    "def Sankey_plot(sankey_obj):\n",
    "  \n",
    "  start_time = time.time()\n",
    "\n",
    "  fig = go.Figure(\n",
    "    data=[go.Sankey(**sankey_obj['data'][0])]\n",
    "  )\n",
    "\n",
    "  fig.update_layout(title_text=\"phenotype development\", font_size=10, autosize = False)\n",
    "  fig.show()\n",
    "  \n",
    "  print(\"\\n--- %s seconds ---\" % (time.time() - start_time))\n",
    "\n",
    "  return fig"
   ]
  },
  {
   "cell_type": "code",
   "execution_count": 30,
   "metadata": {},
   "outputs": [],
   "source": [
    "unique_genotypes = sankey_obj['data'][0]['link']['label'].unique().tolist() # Get the list of all genotypes\n",
    "geno = genotype_colors"
   ]
  },
  {
   "cell_type": "code",
   "execution_count": 31,
   "metadata": {},
   "outputs": [],
   "source": [
    "def Sankey_genomes(sankey_obj):\n",
    "\n",
    "    sankey_geno = copy.deepcopy(sankey_obj) # Creates a copy of the original Sankey object to avoid overwriting\n",
    "    col1 = ['rgba(169,169,169,0.4)'] * (len(sankey_geno['data'][0]['link']['color'])-1) # Creates a list of uniform colours (e.g. darkgrey = rgba(169,169,169,0.4)) with the length of the Sankey object\n",
    "    col1.append('rgba(228, 26, 28, 0.0)')\n",
    "    col1 = pd.Series(col1,index=sankey_geno['data'][0]['link']['color'].index) # Converts the list into a pandas dataframe\n",
    "    sankey_geno['data'][0]['link']['color'] = col1 # Change the original colours for the uniform colour\n",
    "\n",
    "    #unique_genotypes = list(set(sankey_geno['data'][0]['link']['label']))\n",
    "    unique_genotypes = sankey_geno['data'][0]['link']['label'].unique().tolist()\n",
    "    \n",
    "    # Note: The length of the following list of colors needs to be equal to the number of genotypes\n",
    "    geno = genotype_colors\n",
    "\n",
    "    if len(unique_genotypes) == len(geno):\n",
    "        print(f\"List of colors and genotypes have the same length. Continue to plot\")\n",
    "        genotype_color_map = {genotype: geno[i % len(geno)] for i, genotype in enumerate(unique_genotypes)}\n",
    "    \n",
    "        for (label,label_ind) in zip(sankey_geno['data'][0]['link']['label'].tolist(), sankey_geno['data'][0]['link']['label'].index):\n",
    "            if label == geno_color:\n",
    "                sankey_geno['data'][0]['link']['color'][label_ind] = genotype_color_map[geno_color]\n",
    "\n",
    "        plot_geno = Sankey_plot(sankey_geno) # Note: Any changes in the original Sankey_plot function will also affect the outcomes of these plots.\n",
    "\n",
    "        return plot_geno\n",
    "    \n",
    "    else:\n",
    "        print('The list of colours does not match the number of different genotypes')\n",
    "    return sankey_geno"
   ]
  },
  {
   "cell_type": "code",
   "execution_count": 32,
   "metadata": {},
   "outputs": [
    {
     "name": "stdout",
     "output_type": "stream",
     "text": [
      "List of colors and genotypes have the same length. Continue to plot\n"
     ]
    },
    {
     "data": {
      "application/vnd.plotly.v1+json": {
       "config": {
        "plotlyServerURL": "https://plot.ly"
       },
       "data": [
        {
         "arrangement": "freeform",
         "domain": {
          "x": [
           0,
           1
          ],
          "y": [
           0,
           1
          ]
         },
         "link": {
          "color": [
           "rgba(169,169,169,0.4)",
           "rgba(169,169,169,0.4)",
           "rgba(169,169,169,0.4)",
           "rgba(169,169,169,0.4)",
           "rgba(255, 187, 120,1.0)",
           "rgba(169,169,169,0.4)",
           "rgba(169,169,169,0.4)",
           "rgba(169,169,169,0.4)",
           "rgba(169,169,169,0.4)",
           "rgba(169,169,169,0.4)",
           "rgba(169,169,169,0.4)",
           "rgba(169,169,169,0.4)",
           "rgba(169,169,169,0.4)",
           "rgba(169,169,169,0.4)",
           "rgba(169,169,169,0.4)",
           "rgba(169,169,169,0.4)",
           "rgba(169,169,169,0.4)",
           "rgba(169,169,169,0.4)",
           "rgba(169,169,169,0.4)",
           "rgba(169,169,169,0.4)",
           "rgba(169,169,169,0.4)",
           "rgba(169,169,169,0.4)",
           "rgba(169,169,169,0.4)",
           "rgba(169,169,169,0.4)",
           "rgba(169,169,169,0.4)",
           "rgba(169,169,169,0.4)",
           "rgba(169,169,169,0.4)",
           "rgba(169,169,169,0.4)",
           "rgba(169,169,169,0.4)",
           "rgba(169,169,169,0.4)",
           "rgba(169,169,169,0.4)",
           "rgba(169,169,169,0.4)",
           "rgba(169,169,169,0.4)",
           "rgba(169,169,169,0.4)",
           "rgba(169,169,169,0.4)",
           "rgba(169,169,169,0.4)",
           "rgba(169,169,169,0.4)",
           "rgba(169,169,169,0.4)",
           "rgba(169,169,169,0.4)",
           "rgba(169,169,169,0.4)",
           "rgba(169,169,169,0.4)",
           "rgba(169,169,169,0.4)",
           "rgba(169,169,169,0.4)",
           "rgba(169,169,169,0.4)",
           "rgba(169,169,169,0.4)",
           "rgba(169,169,169,0.4)",
           "rgba(169,169,169,0.4)",
           "rgba(169,169,169,0.4)",
           "rgba(169,169,169,0.4)",
           "rgba(169,169,169,0.4)",
           "rgba(169,169,169,0.4)",
           "rgba(255, 187, 120,1.0)",
           "rgba(169,169,169,0.4)",
           "rgba(169,169,169,0.4)",
           "rgba(169,169,169,0.4)",
           "rgba(169,169,169,0.4)",
           "rgba(169,169,169,0.4)",
           "rgba(169,169,169,0.4)",
           "rgba(169,169,169,0.4)",
           "rgba(169,169,169,0.4)",
           "rgba(169,169,169,0.4)",
           "rgba(169,169,169,0.4)",
           "rgba(169,169,169,0.4)",
           "rgba(169,169,169,0.4)",
           "rgba(169,169,169,0.4)",
           "rgba(169,169,169,0.4)",
           "rgba(169,169,169,0.4)",
           "rgba(169,169,169,0.4)",
           "rgba(169,169,169,0.4)",
           "rgba(169,169,169,0.4)",
           "rgba(169,169,169,0.4)",
           "rgba(169,169,169,0.4)",
           "rgba(169,169,169,0.4)",
           "rgba(169,169,169,0.4)",
           "rgba(169,169,169,0.4)",
           "rgba(169,169,169,0.4)",
           "rgba(169,169,169,0.4)",
           "rgba(169,169,169,0.4)",
           "rgba(169,169,169,0.4)",
           "rgba(169,169,169,0.4)",
           "rgba(169,169,169,0.4)",
           "rgba(169,169,169,0.4)",
           "rgba(169,169,169,0.4)",
           "rgba(169,169,169,0.4)",
           "rgba(169,169,169,0.4)",
           "rgba(169,169,169,0.4)",
           "rgba(169,169,169,0.4)",
           "rgba(169,169,169,0.4)",
           "rgba(169,169,169,0.4)",
           "rgba(169,169,169,0.4)",
           "rgba(169,169,169,0.4)",
           "rgba(169,169,169,0.4)",
           "rgba(169,169,169,0.4)",
           "rgba(169,169,169,0.4)",
           "rgba(169,169,169,0.4)",
           "rgba(169,169,169,0.4)",
           "rgba(169,169,169,0.4)",
           "rgba(169,169,169,0.4)",
           "rgba(255, 187, 120,1.0)",
           "rgba(169,169,169,0.4)",
           "rgba(169,169,169,0.4)",
           "rgba(169,169,169,0.4)",
           "rgba(169,169,169,0.4)",
           "rgba(169,169,169,0.4)",
           "rgba(169,169,169,0.4)",
           "rgba(169,169,169,0.4)",
           "rgba(169,169,169,0.4)",
           "rgba(169,169,169,0.4)",
           "rgba(169,169,169,0.4)",
           "rgba(169,169,169,0.4)",
           "rgba(169,169,169,0.4)",
           "rgba(169,169,169,0.4)",
           "rgba(169,169,169,0.4)",
           "rgba(169,169,169,0.4)",
           "rgba(169,169,169,0.4)",
           "rgba(169,169,169,0.4)",
           "rgba(169,169,169,0.4)",
           "rgba(169,169,169,0.4)",
           "rgba(169,169,169,0.4)",
           "rgba(169,169,169,0.4)",
           "rgba(169,169,169,0.4)",
           "rgba(169,169,169,0.4)",
           "rgba(169,169,169,0.4)",
           "rgba(169,169,169,0.4)",
           "rgba(169,169,169,0.4)",
           "rgba(169,169,169,0.4)",
           "rgba(169,169,169,0.4)",
           "rgba(169,169,169,0.4)",
           "rgba(169,169,169,0.4)",
           "rgba(169,169,169,0.4)",
           "rgba(169,169,169,0.4)",
           "rgba(169,169,169,0.4)",
           "rgba(169,169,169,0.4)",
           "rgba(169,169,169,0.4)",
           "rgba(169,169,169,0.4)",
           "rgba(169,169,169,0.4)",
           "rgba(169,169,169,0.4)",
           "rgba(169,169,169,0.4)",
           "rgba(169,169,169,0.4)",
           "rgba(169,169,169,0.4)",
           "rgba(169,169,169,0.4)",
           "rgba(228, 26, 28, 0.0)"
          ],
          "label": [
           "hom,het,hom",
           "hom,wt,hom",
           "hom,hom,het",
           "hom,hom,het",
           "hom,hom,hom",
           "hom,hom,wt",
           "hom,het,hom",
           "het,het,hom",
           "het,hom,hom",
           "hom,het,het",
           "hom,het,wt",
           "hom,wt,het",
           "hom,wt,wt",
           "wt,hom,hom",
           "het,het,hom",
           "het,wt,hom",
           "hom,het,het",
           "hom,het,hom",
           "hom,het,wt",
           "wt,het,hom",
           "wt,hom,hom",
           "wt,wt,hom",
           "het,het,hom",
           "het,het,wt",
           "hom,het,het",
           "het,het,het",
           "het,hom,het",
           "het,hom,hom",
           "hom,het,het",
           "hom,wt,het",
           "hom,wt,wt",
           "wt,hom,hom",
           "hom,het,het",
           "het,het,hom",
           "hom,wt,hom",
           "wt,wt,hom",
           "het,wt,hom",
           "het,het,het",
           "het,het,wt",
           "het,hom,het",
           "het,hom,wt",
           "het,wt,het",
           "wt,het,het",
           "wt,het,wt",
           "wt,hom,het",
           "wt,wt,het",
           "wt,wt,wt",
           "hom,het,hom",
           "hom,wt,hom",
           "hom,hom,het",
           "hom,hom,het",
           "hom,hom,hom",
           "hom,hom,wt",
           "hom,het,hom",
           "het,het,hom",
           "het,hom,hom",
           "hom,het,het",
           "hom,het,wt",
           "hom,wt,het",
           "hom,wt,wt",
           "wt,hom,hom",
           "het,het,hom",
           "het,wt,hom",
           "hom,het,het",
           "hom,het,hom",
           "hom,het,wt",
           "wt,het,hom",
           "wt,hom,hom",
           "wt,wt,hom",
           "het,het,hom",
           "het,het,wt",
           "hom,het,het",
           "het,het,het",
           "het,hom,het",
           "het,hom,hom",
           "hom,het,het",
           "hom,wt,het",
           "hom,wt,wt",
           "wt,hom,hom",
           "hom,het,het",
           "het,het,hom",
           "hom,wt,hom",
           "wt,wt,hom",
           "het,wt,hom",
           "het,het,het",
           "het,het,wt",
           "het,hom,het",
           "het,hom,wt",
           "het,wt,het",
           "wt,het,het",
           "wt,het,wt",
           "wt,hom,het",
           "wt,wt,het",
           "wt,wt,wt",
           "hom,het,hom",
           "hom,wt,hom",
           "hom,hom,het",
           "hom,hom,het",
           "hom,hom,hom",
           "hom,hom,wt",
           "hom,het,hom",
           "het,het,hom",
           "het,hom,hom",
           "hom,het,het",
           "hom,het,wt",
           "hom,wt,het",
           "hom,wt,wt",
           "wt,hom,hom",
           "het,het,hom",
           "het,wt,hom",
           "hom,het,het",
           "hom,het,hom",
           "hom,het,wt",
           "wt,het,hom",
           "wt,hom,hom",
           "wt,wt,hom",
           "het,het,hom",
           "het,het,wt",
           "hom,het,het",
           "het,het,het",
           "het,hom,het",
           "het,hom,hom",
           "hom,het,het",
           "hom,wt,het",
           "hom,wt,wt",
           "wt,hom,hom",
           "hom,het,het",
           "het,het,hom",
           "hom,wt,hom",
           "wt,wt,hom",
           "het,wt,hom",
           "het,het,het",
           "het,het,wt",
           "het,hom,het",
           "het,hom,wt",
           "het,wt,het",
           "wt,het,het",
           "wt,het,wt",
           "wt,hom,het",
           "wt,wt,het",
           "wt,wt,wt",
           "random"
          ],
          "source": [
           0,
           0,
           0,
           0,
           0,
           0,
           1,
           1,
           1,
           1,
           1,
           1,
           1,
           1,
           1,
           1,
           1,
           1,
           1,
           1,
           1,
           1,
           1,
           1,
           1,
           1,
           1,
           1,
           1,
           1,
           1,
           1,
           1,
           1,
           1,
           1,
           1,
           1,
           1,
           1,
           1,
           1,
           1,
           1,
           1,
           1,
           1,
           3,
           3,
           3,
           3,
           3,
           3,
           2,
           4,
           4,
           4,
           4,
           4,
           4,
           4,
           4,
           4,
           4,
           4,
           4,
           4,
           4,
           4,
           4,
           4,
           4,
           4,
           4,
           4,
           4,
           4,
           4,
           4,
           4,
           4,
           4,
           4,
           4,
           4,
           4,
           4,
           4,
           4,
           4,
           4,
           4,
           4,
           4,
           6,
           6,
           7,
           6,
           7,
           7,
           6,
           5,
           5,
           5,
           5,
           5,
           5,
           5,
           5,
           5,
           5,
           5,
           5,
           5,
           5,
           5,
           5,
           5,
           5,
           5,
           5,
           5,
           5,
           5,
           5,
           5,
           6,
           6,
           6,
           6,
           7,
           8,
           8,
           8,
           8,
           8,
           8,
           8,
           8,
           8,
           8,
           47
          ],
          "target": [
           3,
           3,
           3,
           3,
           3,
           3,
           2,
           4,
           4,
           4,
           4,
           4,
           4,
           4,
           4,
           4,
           4,
           4,
           4,
           4,
           4,
           4,
           4,
           4,
           4,
           4,
           4,
           4,
           4,
           4,
           4,
           4,
           4,
           4,
           4,
           4,
           4,
           4,
           4,
           4,
           4,
           4,
           4,
           4,
           4,
           4,
           4,
           6,
           6,
           7,
           6,
           7,
           7,
           6,
           5,
           5,
           5,
           5,
           5,
           5,
           5,
           5,
           5,
           5,
           5,
           5,
           5,
           5,
           5,
           5,
           5,
           5,
           5,
           5,
           5,
           5,
           5,
           5,
           5,
           6,
           6,
           6,
           6,
           7,
           8,
           8,
           8,
           8,
           8,
           8,
           8,
           8,
           8,
           8,
           10,
           11,
           11,
           11,
           11,
           11,
           11,
           9,
           9,
           9,
           9,
           9,
           9,
           9,
           10,
           10,
           10,
           10,
           10,
           10,
           10,
           10,
           11,
           11,
           11,
           9,
           9,
           9,
           9,
           9,
           9,
           9,
           10,
           11,
           11,
           11,
           11,
           12,
           12,
           12,
           12,
           12,
           12,
           12,
           12,
           12,
           12,
           48
          ],
          "value": [
           1,
           1,
           11,
           1,
           5,
           2,
           1,
           1,
           3,
           6,
           5,
           3,
           1,
           5,
           6,
           3,
           3,
           1,
           1,
           4,
           1,
           1,
           4,
           1,
           1,
           1,
           1,
           5,
           2,
           4,
           2,
           2,
           1,
           1,
           1,
           1,
           1,
           8,
           4,
           5,
           1,
           4,
           3,
           1,
           1,
           4,
           1,
           1,
           1,
           11,
           1,
           5,
           2,
           1,
           1,
           3,
           6,
           5,
           3,
           1,
           5,
           6,
           3,
           3,
           1,
           1,
           4,
           1,
           1,
           4,
           1,
           1,
           1,
           1,
           5,
           2,
           4,
           2,
           2,
           1,
           1,
           1,
           1,
           1,
           8,
           4,
           5,
           1,
           4,
           3,
           1,
           1,
           4,
           1,
           1,
           1,
           11,
           1,
           5,
           2,
           1,
           1,
           3,
           6,
           5,
           3,
           1,
           5,
           6,
           3,
           3,
           1,
           1,
           4,
           1,
           1,
           4,
           1,
           1,
           1,
           1,
           5,
           2,
           4,
           2,
           2,
           1,
           1,
           1,
           1,
           1,
           8,
           4,
           5,
           1,
           4,
           3,
           1,
           1,
           4,
           1,
           100
          ]
         },
         "node": {
          "color": [
           "darkgrey",
           "darkgrey",
           "darkgrey",
           "darkgrey",
           "darkgrey",
           "darkgrey",
           "darkgrey",
           "darkgrey",
           "darkgrey",
           "darkgrey",
           "darkgrey",
           "darkgrey",
           "darkgrey",
           "white",
           "white"
          ],
          "label": [
           "2dpf_D",
           "2dpf_WT",
           "3dpf_D",
           "3dpf_D&C1",
           "3dpf_WT",
           "4dpf_C1",
           "4dpf_C2",
           "4dpf_C3",
           "4dpf_WT",
           "5dpf_C1",
           "5dpf_C2",
           "5dpf_C3",
           "5dpf_WT",
           "",
           ""
          ],
          "line": {
           "color": "white",
           "width": 0
          },
          "pad": 30,
          "thickness": 15
         },
         "orientation": "h",
         "type": "sankey",
         "valueformat": ".0f"
        }
       ],
       "layout": {
        "autosize": false,
        "font": {
         "size": 10
        },
        "template": {
         "data": {
          "bar": [
           {
            "error_x": {
             "color": "#2a3f5f"
            },
            "error_y": {
             "color": "#2a3f5f"
            },
            "marker": {
             "line": {
              "color": "#E5ECF6",
              "width": 0.5
             },
             "pattern": {
              "fillmode": "overlay",
              "size": 10,
              "solidity": 0.2
             }
            },
            "type": "bar"
           }
          ],
          "barpolar": [
           {
            "marker": {
             "line": {
              "color": "#E5ECF6",
              "width": 0.5
             },
             "pattern": {
              "fillmode": "overlay",
              "size": 10,
              "solidity": 0.2
             }
            },
            "type": "barpolar"
           }
          ],
          "carpet": [
           {
            "aaxis": {
             "endlinecolor": "#2a3f5f",
             "gridcolor": "white",
             "linecolor": "white",
             "minorgridcolor": "white",
             "startlinecolor": "#2a3f5f"
            },
            "baxis": {
             "endlinecolor": "#2a3f5f",
             "gridcolor": "white",
             "linecolor": "white",
             "minorgridcolor": "white",
             "startlinecolor": "#2a3f5f"
            },
            "type": "carpet"
           }
          ],
          "choropleth": [
           {
            "colorbar": {
             "outlinewidth": 0,
             "ticks": ""
            },
            "type": "choropleth"
           }
          ],
          "contour": [
           {
            "colorbar": {
             "outlinewidth": 0,
             "ticks": ""
            },
            "colorscale": [
             [
              0,
              "#0d0887"
             ],
             [
              0.1111111111111111,
              "#46039f"
             ],
             [
              0.2222222222222222,
              "#7201a8"
             ],
             [
              0.3333333333333333,
              "#9c179e"
             ],
             [
              0.4444444444444444,
              "#bd3786"
             ],
             [
              0.5555555555555556,
              "#d8576b"
             ],
             [
              0.6666666666666666,
              "#ed7953"
             ],
             [
              0.7777777777777778,
              "#fb9f3a"
             ],
             [
              0.8888888888888888,
              "#fdca26"
             ],
             [
              1,
              "#f0f921"
             ]
            ],
            "type": "contour"
           }
          ],
          "contourcarpet": [
           {
            "colorbar": {
             "outlinewidth": 0,
             "ticks": ""
            },
            "type": "contourcarpet"
           }
          ],
          "heatmap": [
           {
            "colorbar": {
             "outlinewidth": 0,
             "ticks": ""
            },
            "colorscale": [
             [
              0,
              "#0d0887"
             ],
             [
              0.1111111111111111,
              "#46039f"
             ],
             [
              0.2222222222222222,
              "#7201a8"
             ],
             [
              0.3333333333333333,
              "#9c179e"
             ],
             [
              0.4444444444444444,
              "#bd3786"
             ],
             [
              0.5555555555555556,
              "#d8576b"
             ],
             [
              0.6666666666666666,
              "#ed7953"
             ],
             [
              0.7777777777777778,
              "#fb9f3a"
             ],
             [
              0.8888888888888888,
              "#fdca26"
             ],
             [
              1,
              "#f0f921"
             ]
            ],
            "type": "heatmap"
           }
          ],
          "heatmapgl": [
           {
            "colorbar": {
             "outlinewidth": 0,
             "ticks": ""
            },
            "colorscale": [
             [
              0,
              "#0d0887"
             ],
             [
              0.1111111111111111,
              "#46039f"
             ],
             [
              0.2222222222222222,
              "#7201a8"
             ],
             [
              0.3333333333333333,
              "#9c179e"
             ],
             [
              0.4444444444444444,
              "#bd3786"
             ],
             [
              0.5555555555555556,
              "#d8576b"
             ],
             [
              0.6666666666666666,
              "#ed7953"
             ],
             [
              0.7777777777777778,
              "#fb9f3a"
             ],
             [
              0.8888888888888888,
              "#fdca26"
             ],
             [
              1,
              "#f0f921"
             ]
            ],
            "type": "heatmapgl"
           }
          ],
          "histogram": [
           {
            "marker": {
             "pattern": {
              "fillmode": "overlay",
              "size": 10,
              "solidity": 0.2
             }
            },
            "type": "histogram"
           }
          ],
          "histogram2d": [
           {
            "colorbar": {
             "outlinewidth": 0,
             "ticks": ""
            },
            "colorscale": [
             [
              0,
              "#0d0887"
             ],
             [
              0.1111111111111111,
              "#46039f"
             ],
             [
              0.2222222222222222,
              "#7201a8"
             ],
             [
              0.3333333333333333,
              "#9c179e"
             ],
             [
              0.4444444444444444,
              "#bd3786"
             ],
             [
              0.5555555555555556,
              "#d8576b"
             ],
             [
              0.6666666666666666,
              "#ed7953"
             ],
             [
              0.7777777777777778,
              "#fb9f3a"
             ],
             [
              0.8888888888888888,
              "#fdca26"
             ],
             [
              1,
              "#f0f921"
             ]
            ],
            "type": "histogram2d"
           }
          ],
          "histogram2dcontour": [
           {
            "colorbar": {
             "outlinewidth": 0,
             "ticks": ""
            },
            "colorscale": [
             [
              0,
              "#0d0887"
             ],
             [
              0.1111111111111111,
              "#46039f"
             ],
             [
              0.2222222222222222,
              "#7201a8"
             ],
             [
              0.3333333333333333,
              "#9c179e"
             ],
             [
              0.4444444444444444,
              "#bd3786"
             ],
             [
              0.5555555555555556,
              "#d8576b"
             ],
             [
              0.6666666666666666,
              "#ed7953"
             ],
             [
              0.7777777777777778,
              "#fb9f3a"
             ],
             [
              0.8888888888888888,
              "#fdca26"
             ],
             [
              1,
              "#f0f921"
             ]
            ],
            "type": "histogram2dcontour"
           }
          ],
          "mesh3d": [
           {
            "colorbar": {
             "outlinewidth": 0,
             "ticks": ""
            },
            "type": "mesh3d"
           }
          ],
          "parcoords": [
           {
            "line": {
             "colorbar": {
              "outlinewidth": 0,
              "ticks": ""
             }
            },
            "type": "parcoords"
           }
          ],
          "pie": [
           {
            "automargin": true,
            "type": "pie"
           }
          ],
          "scatter": [
           {
            "fillpattern": {
             "fillmode": "overlay",
             "size": 10,
             "solidity": 0.2
            },
            "type": "scatter"
           }
          ],
          "scatter3d": [
           {
            "line": {
             "colorbar": {
              "outlinewidth": 0,
              "ticks": ""
             }
            },
            "marker": {
             "colorbar": {
              "outlinewidth": 0,
              "ticks": ""
             }
            },
            "type": "scatter3d"
           }
          ],
          "scattercarpet": [
           {
            "marker": {
             "colorbar": {
              "outlinewidth": 0,
              "ticks": ""
             }
            },
            "type": "scattercarpet"
           }
          ],
          "scattergeo": [
           {
            "marker": {
             "colorbar": {
              "outlinewidth": 0,
              "ticks": ""
             }
            },
            "type": "scattergeo"
           }
          ],
          "scattergl": [
           {
            "marker": {
             "colorbar": {
              "outlinewidth": 0,
              "ticks": ""
             }
            },
            "type": "scattergl"
           }
          ],
          "scattermapbox": [
           {
            "marker": {
             "colorbar": {
              "outlinewidth": 0,
              "ticks": ""
             }
            },
            "type": "scattermapbox"
           }
          ],
          "scatterpolar": [
           {
            "marker": {
             "colorbar": {
              "outlinewidth": 0,
              "ticks": ""
             }
            },
            "type": "scatterpolar"
           }
          ],
          "scatterpolargl": [
           {
            "marker": {
             "colorbar": {
              "outlinewidth": 0,
              "ticks": ""
             }
            },
            "type": "scatterpolargl"
           }
          ],
          "scatterternary": [
           {
            "marker": {
             "colorbar": {
              "outlinewidth": 0,
              "ticks": ""
             }
            },
            "type": "scatterternary"
           }
          ],
          "surface": [
           {
            "colorbar": {
             "outlinewidth": 0,
             "ticks": ""
            },
            "colorscale": [
             [
              0,
              "#0d0887"
             ],
             [
              0.1111111111111111,
              "#46039f"
             ],
             [
              0.2222222222222222,
              "#7201a8"
             ],
             [
              0.3333333333333333,
              "#9c179e"
             ],
             [
              0.4444444444444444,
              "#bd3786"
             ],
             [
              0.5555555555555556,
              "#d8576b"
             ],
             [
              0.6666666666666666,
              "#ed7953"
             ],
             [
              0.7777777777777778,
              "#fb9f3a"
             ],
             [
              0.8888888888888888,
              "#fdca26"
             ],
             [
              1,
              "#f0f921"
             ]
            ],
            "type": "surface"
           }
          ],
          "table": [
           {
            "cells": {
             "fill": {
              "color": "#EBF0F8"
             },
             "line": {
              "color": "white"
             }
            },
            "header": {
             "fill": {
              "color": "#C8D4E3"
             },
             "line": {
              "color": "white"
             }
            },
            "type": "table"
           }
          ]
         },
         "layout": {
          "annotationdefaults": {
           "arrowcolor": "#2a3f5f",
           "arrowhead": 0,
           "arrowwidth": 1
          },
          "autotypenumbers": "strict",
          "coloraxis": {
           "colorbar": {
            "outlinewidth": 0,
            "ticks": ""
           }
          },
          "colorscale": {
           "diverging": [
            [
             0,
             "#8e0152"
            ],
            [
             0.1,
             "#c51b7d"
            ],
            [
             0.2,
             "#de77ae"
            ],
            [
             0.3,
             "#f1b6da"
            ],
            [
             0.4,
             "#fde0ef"
            ],
            [
             0.5,
             "#f7f7f7"
            ],
            [
             0.6,
             "#e6f5d0"
            ],
            [
             0.7,
             "#b8e186"
            ],
            [
             0.8,
             "#7fbc41"
            ],
            [
             0.9,
             "#4d9221"
            ],
            [
             1,
             "#276419"
            ]
           ],
           "sequential": [
            [
             0,
             "#0d0887"
            ],
            [
             0.1111111111111111,
             "#46039f"
            ],
            [
             0.2222222222222222,
             "#7201a8"
            ],
            [
             0.3333333333333333,
             "#9c179e"
            ],
            [
             0.4444444444444444,
             "#bd3786"
            ],
            [
             0.5555555555555556,
             "#d8576b"
            ],
            [
             0.6666666666666666,
             "#ed7953"
            ],
            [
             0.7777777777777778,
             "#fb9f3a"
            ],
            [
             0.8888888888888888,
             "#fdca26"
            ],
            [
             1,
             "#f0f921"
            ]
           ],
           "sequentialminus": [
            [
             0,
             "#0d0887"
            ],
            [
             0.1111111111111111,
             "#46039f"
            ],
            [
             0.2222222222222222,
             "#7201a8"
            ],
            [
             0.3333333333333333,
             "#9c179e"
            ],
            [
             0.4444444444444444,
             "#bd3786"
            ],
            [
             0.5555555555555556,
             "#d8576b"
            ],
            [
             0.6666666666666666,
             "#ed7953"
            ],
            [
             0.7777777777777778,
             "#fb9f3a"
            ],
            [
             0.8888888888888888,
             "#fdca26"
            ],
            [
             1,
             "#f0f921"
            ]
           ]
          },
          "colorway": [
           "#636efa",
           "#EF553B",
           "#00cc96",
           "#ab63fa",
           "#FFA15A",
           "#19d3f3",
           "#FF6692",
           "#B6E880",
           "#FF97FF",
           "#FECB52"
          ],
          "font": {
           "color": "#2a3f5f"
          },
          "geo": {
           "bgcolor": "white",
           "lakecolor": "white",
           "landcolor": "#E5ECF6",
           "showlakes": true,
           "showland": true,
           "subunitcolor": "white"
          },
          "hoverlabel": {
           "align": "left"
          },
          "hovermode": "closest",
          "mapbox": {
           "style": "light"
          },
          "paper_bgcolor": "white",
          "plot_bgcolor": "#E5ECF6",
          "polar": {
           "angularaxis": {
            "gridcolor": "white",
            "linecolor": "white",
            "ticks": ""
           },
           "bgcolor": "#E5ECF6",
           "radialaxis": {
            "gridcolor": "white",
            "linecolor": "white",
            "ticks": ""
           }
          },
          "scene": {
           "xaxis": {
            "backgroundcolor": "#E5ECF6",
            "gridcolor": "white",
            "gridwidth": 2,
            "linecolor": "white",
            "showbackground": true,
            "ticks": "",
            "zerolinecolor": "white"
           },
           "yaxis": {
            "backgroundcolor": "#E5ECF6",
            "gridcolor": "white",
            "gridwidth": 2,
            "linecolor": "white",
            "showbackground": true,
            "ticks": "",
            "zerolinecolor": "white"
           },
           "zaxis": {
            "backgroundcolor": "#E5ECF6",
            "gridcolor": "white",
            "gridwidth": 2,
            "linecolor": "white",
            "showbackground": true,
            "ticks": "",
            "zerolinecolor": "white"
           }
          },
          "shapedefaults": {
           "line": {
            "color": "#2a3f5f"
           }
          },
          "ternary": {
           "aaxis": {
            "gridcolor": "white",
            "linecolor": "white",
            "ticks": ""
           },
           "baxis": {
            "gridcolor": "white",
            "linecolor": "white",
            "ticks": ""
           },
           "bgcolor": "#E5ECF6",
           "caxis": {
            "gridcolor": "white",
            "linecolor": "white",
            "ticks": ""
           }
          },
          "title": {
           "x": 0.05
          },
          "xaxis": {
           "automargin": true,
           "gridcolor": "white",
           "linecolor": "white",
           "ticks": "",
           "title": {
            "standoff": 15
           },
           "zerolinecolor": "white",
           "zerolinewidth": 2
          },
          "yaxis": {
           "automargin": true,
           "gridcolor": "white",
           "linecolor": "white",
           "ticks": "",
           "title": {
            "standoff": 15
           },
           "zerolinecolor": "white",
           "zerolinewidth": 2
          }
         }
        },
        "title": {
         "text": "phenotype development"
        }
       }
      }
     },
     "metadata": {},
     "output_type": "display_data"
    },
    {
     "name": "stdout",
     "output_type": "stream",
     "text": [
      "\n",
      "--- 0.014371156692504883 seconds ---\n"
     ]
    }
   ],
   "source": [
    "out = Sankey_genomes(sankey_obj)"
   ]
  },
  {
   "cell_type": "code",
   "execution_count": null,
   "metadata": {},
   "outputs": [],
   "source": [
    "# Print and save all individual genotypes\n",
    "\n",
    "for geno_color in sankey_obj['data'][0]['link']['label'].unique().tolist():\n",
    "    if geno_color != 'random':\n",
    "        out = Sankey_genomes(sankey_obj)\n",
    "        title = geno_color + '.html'\n",
    "        out.write_html(title)\n",
    "    else:\n",
    "        pass"
   ]
  }
 ],
 "metadata": {
  "kernelspec": {
   "display_name": "3.10.11",
   "language": "python",
   "name": "python3"
  },
  "language_info": {
   "codemirror_mode": {
    "name": "ipython",
    "version": 3
   },
   "file_extension": ".py",
   "mimetype": "text/x-python",
   "name": "python",
   "nbconvert_exporter": "python",
   "pygments_lexer": "ipython3",
   "version": "3.10.11"
  }
 },
 "nbformat": 4,
 "nbformat_minor": 2
}
